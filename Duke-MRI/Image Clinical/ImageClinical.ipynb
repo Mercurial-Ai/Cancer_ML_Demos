{
 "cells": [
  {
   "cell_type": "code",
   "execution_count": 1,
   "id": "90611358",
   "metadata": {},
   "outputs": [
    {
     "name": "stderr",
     "output_type": "stream",
     "text": [
      "C:\\Users\\trist\\cs_projects\\Cancer_Project\\Cancer_ML\\env\\lib\\site-packages\\requests\\__init__.py:102: RequestsDependencyWarning: urllib3 (1.26.7) or chardet (5.0.0)/charset_normalizer (2.0.6) doesn't match a supported version!\n",
      "  warnings.warn(\"urllib3 ({}) or chardet ({})/charset_normalizer ({}) doesn't match a supported \"\n"
     ]
    }
   ],
   "source": [
    "from torch.utils.data import Dataset\n",
    "import pydicom\n",
    "import torchio\n",
    "import numpy as np\n",
    "import pandas as pd\n",
    "\n",
    "import pickle\n",
    "import os\n",
    "import time"
   ]
  },
  {
   "cell_type": "code",
   "execution_count": 2,
   "id": "135a89d7",
   "metadata": {},
   "outputs": [],
   "source": [
    "target = 'Adjuvant Chemotherapy'"
   ]
  },
  {
   "cell_type": "markdown",
   "id": "bdcfe43b",
   "metadata": {},
   "source": [
    "Load image data using PyTorch Dataset"
   ]
  },
  {
   "cell_type": "code",
   "execution_count": 3,
   "id": "33fbacc8",
   "metadata": {},
   "outputs": [],
   "source": [
    "class dcm_npy_loader(Dataset):\n",
    "\n",
    "    def __init__(self, img_dir, load, shape=(512, 512)):\n",
    "        self.img_dir = img_dir\n",
    "        self.load = load\n",
    "        self.shape = shape\n",
    "\n",
    "        if not self.load:\n",
    "            load_paths = list()\n",
    "            for (dirpath, dirnames, filenames) in os.walk(img_dir):\n",
    "                load_paths += [os.path.join(dirpath, file) for file in filenames]\n",
    "\n",
    "            ids = np.array([], dtype=np.int8)\n",
    "            img_list = []\n",
    "            num_exceptions = 0\n",
    "            for path in load_paths:\n",
    "                try:\n",
    "                    file = pydicom.dcmread(path)\n",
    "                    if file.pixel_array.shape == self.shape:\n",
    "                        id = file.PatientID\n",
    "                        for c in id:\n",
    "                            if not c.isdigit():\n",
    "                                id = id.replace(c, '')\n",
    "\n",
    "                        ids = np.append(ids, id)\n",
    "\n",
    "                        subject_dict = {\n",
    "                            'one image': torchio.ScalarImage(path),\n",
    "                            'id':id,\n",
    "                            'SliceLocation':file.SliceLocation\n",
    "                        }\n",
    "                        subject = torchio.Subject(subject_dict)\n",
    "\n",
    "                        img_list.append(subject)\n",
    "                except:\n",
    "                    if num_exceptions < 5:\n",
    "                        print(\"Image \" + path + \" could not be loaded\")\n",
    "                    elif num_exceptions == 5:\n",
    "                        print(\"More than 5 exceptions occured\")\n",
    "                    \n",
    "                    num_exceptions = num_exceptions + 1\n",
    "\n",
    "            img_list.sort(key=lambda s: int(s['id']))\n",
    "\n",
    "            ids = set([int(s['id']) for s in img_list])\n",
    "\n",
    "            all_img3d = []\n",
    "            all_ids = []\n",
    "            all_sliceLocs = []\n",
    "            for id in ids:\n",
    "                prev_time_id = time.time()\n",
    "\n",
    "                slices = []\n",
    "                i = 0\n",
    "                for slice in img_list:\n",
    "\n",
    "                    p_id = int(slice['id'])\n",
    "\n",
    "                    if int(p_id) == int(id):\n",
    "                            \n",
    "                        slices.append(slice)\n",
    "\n",
    "                        # remove slices from dataset that have already been appended\n",
    "                        del img_list[i]\n",
    "\n",
    "                    i = i + 1\n",
    "\n",
    "                id_slices = torchio.SubjectsDataset(slices)\n",
    "\n",
    "                # ensure slices are in the correct order\n",
    "                id_slices = sorted(id_slices, key=lambda s: s.SliceLocation)\n",
    "\n",
    "                # create 3D array\n",
    "                img_shape = list(id_slices[0]['one image']['data'].shape)\n",
    "                img_shape.append(len(id_slices))\n",
    "                img3d = np.empty(img_shape, dtype=np.int8)\n",
    "\n",
    "                p_id = id_slices[0]['id']\n",
    "                # get only numbers from patient id\n",
    "                p_id = [int(s) for s in str(p_id) if s.isdigit()]\n",
    "                p_id = int(''.join([str(i) for i in p_id]))\n",
    "\n",
    "                slice_locs = []\n",
    "\n",
    "                # fill 3D array with the images from the files\n",
    "                for i, s in enumerate(id_slices):\n",
    "                    img2d = s['one image']['data']\n",
    "\n",
    "                    slice_locs.append(s['SliceLocation'])\n",
    "                    if list(img2d.shape) == img_shape[:4]:\n",
    "                        img3d[:, :, :, :, i] = img2d\n",
    "\n",
    "                all_ids.append(p_id)\n",
    "                img3d = np.squeeze(img3d)\n",
    "                all_img3d.append(img3d)\n",
    "                all_sliceLocs.append(slice_locs)\n",
    "\n",
    "                aft_time_id = time.time()\n",
    "                id_load_time = aft_time_id - prev_time_id\n",
    "\n",
    "                print(\"id: \" + str(id) + \" has completed \" + \"in \" + str(round(id_load_time,0)) + \" seconds!\")\n",
    "\n",
    "            self.data = [all_img3d, all_ids, all_sliceLocs]\n",
    "\n",
    "            with open('data\\\\Duke-Breast-Cancer-MRI\\\\data', 'wb') as fp:\n",
    "                pickle.dump(self.data, fp)\n",
    "        \n",
    "        else:\n",
    "            with open('data\\\\Duke-Breast-Cancer-MRI\\\\data', 'rb') as fp:\n",
    "                self.data = pickle.load(fp)\n",
    "\n",
    "    def __len__(self):\n",
    "        return len(self.data[0])\n",
    "\n",
    "    def __getitem__(self, idx):\n",
    "        sample = [self.data[0][idx], self.data[1][idx], self.data[2][idx]]\n",
    "        return sample"
   ]
  },
  {
   "cell_type": "code",
   "execution_count": 1,
   "id": "1c17cbf5",
   "metadata": {},
   "outputs": [],
   "source": [
    "def import_numpy_2d(path, clinical_ids):\n",
    "    ds = dcm_npy_loader(path, load=True)\n",
    "\n",
    "    patients = []\n",
    "    ids = []\n",
    "    sliceLocs = []\n",
    "    for sample in ds:\n",
    "        patients.append(sample[0])\n",
    "        ids.append(sample[1])\n",
    "        sliceLocs.append(sample[2])\n",
    "\n",
    "    i = 0\n",
    "    for p in patients:\n",
    "        p_id = ids[i]\n",
    "        if not p_id in clinical_ids:\n",
    "            del patients[i]\n",
    "\n",
    "        i = i + 1\n",
    "\n",
    "    slice_locations_min = []\n",
    "    slice_locations_max = []\n",
    "    for sl in sliceLocs:\n",
    "        mi = np.amin(sl)\n",
    "        ma = np.amax(sl)\n",
    "        slice_locations_min.append(mi)\n",
    "        slice_locations_max.append(ma)\n",
    "\n",
    "    # number of intervals to collect for each patient\n",
    "    interval_num = 100\n",
    "\n",
    "    interval_nums = []\n",
    "    all_intervals = []\n",
    "    for ma, mi in zip(slice_locations_max, slice_locations_min):\n",
    "        subinterval_length = int(round((ma-mi)/interval_num, 0))\n",
    "        interval_nums.append(interval_num)\n",
    "\n",
    "        interval_num = min(interval_nums)\n",
    "\n",
    "        # set min slice loc as initial interval marker\n",
    "        intervals = []\n",
    "        interval_marker = mi\n",
    "        for i in range(interval_num):\n",
    "            intervals.append(interval_marker)\n",
    "            interval_marker = interval_marker+subinterval_length*i\n",
    "\n",
    "        all_intervals.append(intervals)\n",
    "\n",
    "    # array to store all intervals\n",
    "    all_interval_imgs = np.empty(shape=(len(ids), len(intervals), 512, 512), dtype=np.float16)\n",
    "\n",
    "    # reshape all patients into (num_slices, res1, res2)\n",
    "    new_patients = []\n",
    "    for patient in patients:\n",
    "        patient = np.reshape(patient, (patient.shape[-1], patient.shape[-2], patient.shape[-3]))\n",
    "        new_patients.append(patient)\n",
    "\n",
    "    patients = new_patients\n",
    "\n",
    "    m = 0\n",
    "    for p_id in ids:\n",
    "        for i in range(len(intervals)):\n",
    "            if i < (len(intervals)-1):\n",
    "                low = intervals[i]\n",
    "                high = intervals[i+1]\n",
    "\n",
    "                interval_imgs = np.empty(shape=(len(intervals), 512, 512), dtype=np.float16)\n",
    "\n",
    "                j = 0\n",
    "                for p in patients:\n",
    "                    id = ids[j]\n",
    "\n",
    "                    k = 0\n",
    "                    if int(id) == int(p_id):\n",
    "\n",
    "                        for s in p:\n",
    "                            slice_location=sliceLocs[j][k]\n",
    "\n",
    "                            if slice_location < high and slice_location > low:\n",
    "                                interval_imgs[i] = s\n",
    "\n",
    "                                # break after adding one image from the interval\n",
    "                                break\n",
    "\n",
    "                            k = k + 1\n",
    "                    \n",
    "                    j = j + 1\n",
    "\n",
    "        m = m + 1\n",
    "\n",
    "    return all_interval_imgs, ids"
   ]
  },
  {
   "cell_type": "markdown",
   "id": "ea8c2894",
   "metadata": {},
   "source": [
    "Load clinical data"
   ]
  },
  {
   "cell_type": "code",
   "execution_count": 5,
   "id": "f77d352e",
   "metadata": {},
   "outputs": [],
   "source": [
    "df = pd.read_csv('..\\Clinical and Other Features.csv')"
   ]
  },
  {
   "cell_type": "code",
   "execution_count": 6,
   "id": "9126d1e4",
   "metadata": {},
   "outputs": [],
   "source": [
    "clinical_ids = df[list(df.columns)[0]]"
   ]
  },
  {
   "cell_type": "code",
   "execution_count": 7,
   "id": "151f4c36",
   "metadata": {},
   "outputs": [],
   "source": [
    "img_array, image_ids = import_numpy_2d(None, clinical_ids)"
   ]
  },
  {
   "cell_type": "markdown",
   "id": "be6d8ad6",
   "metadata": {},
   "source": [
    "Load image features"
   ]
  },
  {
   "cell_type": "code",
   "execution_count": 8,
   "id": "d7c1c217",
   "metadata": {},
   "outputs": [],
   "source": [
    "image_features = pd.read_csv('..\\Imaging_Features.csv')"
   ]
  },
  {
   "cell_type": "markdown",
   "id": "af578b2b",
   "metadata": {},
   "source": [
    "drop ids from image features to prevent duplicates"
   ]
  },
  {
   "cell_type": "code",
   "execution_count": 9,
   "id": "ddf60104",
   "metadata": {},
   "outputs": [],
   "source": [
    "image_features = image_features.drop('Patient ID', axis=1)"
   ]
  },
  {
   "cell_type": "code",
   "execution_count": 10,
   "id": "ee8ebde0",
   "metadata": {},
   "outputs": [],
   "source": [
    "df = pd.concat([df, image_features], axis=1)"
   ]
  },
  {
   "cell_type": "code",
   "execution_count": 11,
   "id": "43ce10ac",
   "metadata": {},
   "outputs": [],
   "source": [
    "df = df.set_index(str(list(df.columns)[0]))"
   ]
  },
  {
   "cell_type": "code",
   "execution_count": 12,
   "id": "bac2d829",
   "metadata": {},
   "outputs": [],
   "source": [
    "from tensorflow.keras.preprocessing.text import Tokenizer\n",
    "\n",
    "def tokenize_dataset(pd_dataset):\n",
    "\n",
    "    # replace missing spots with a string then after dataset is encoded, replace with mean of column\n",
    "    df = pd_dataset.fillna('empty')\n",
    "\n",
    "    if df.shape[0] >= df.shape[1]:\n",
    "        long_axis = df.shape[0]\n",
    "        short_axis = df.shape[1]\n",
    "    else:\n",
    "        long_axis = df.shape[1]\n",
    "        short_axis = df.shape[0]\n",
    "\n",
    "    word_list = []\n",
    "    for i in range(long_axis):\n",
    "        for n in range(short_axis):\n",
    "            \n",
    "            if long_axis == df.shape[0]:\n",
    "                data = df.iloc[i, n]\n",
    "            else:\n",
    "                data = df.iloc[n, i]\n",
    "\n",
    "            if str(type(data)) == \"<class 'str'>\":\n",
    "\n",
    "                # list of chars to be removed from data\n",
    "                char_blocked = [' ', '.', '/', '-', '_', '>', '+', ',', ')', '(', '*',\n",
    "                                '=', '?', ':', '[', ']', '#', '!', '\\n', '\\\\', '}',\n",
    "                                '{', ';', '%', '\"']\n",
    "                \n",
    "                for char in char_blocked:\n",
    "                    if char in data:\n",
    "                        data = data.replace(char, '')\n",
    "\n",
    "                data = data.lower()\n",
    "\n",
    "                if long_axis == df.shape[0]:\n",
    "                    df.iloc[i, n] = data\n",
    "                else:\n",
    "                    df.iloc[n, i] = data\n",
    "\n",
    "                word_list.append(data)\n",
    "\n",
    "    tokenizer = Tokenizer()\n",
    "    tokenizer.fit_on_texts(word_list)\n",
    "    code_dict = tokenizer.word_index\n",
    "\n",
    "    for i in range(long_axis):\n",
    "        for n in range(short_axis):\n",
    "            if long_axis == df.shape[0]:\n",
    "                data = df.iloc[i, n]\n",
    "            else: \n",
    "                data = df.iloc[n, i]\n",
    "\n",
    "            if str(type(data)) == \"<class 'str'>\":\n",
    "                \n",
    "                data = int(code_dict[data])\n",
    "\n",
    "            if long_axis == df.shape[0]: \n",
    "                df.iloc[i, n] = data\n",
    "            else: \n",
    "                df.iloc[n, i] = data\n",
    "\n",
    "    # replace spots previously denoted as 'empty' with mean of column\n",
    "    for column in list(df.columns):\n",
    "        col = df[column].copy()\n",
    "\n",
    "        empty_indices = []\n",
    "\n",
    "        i = 0\n",
    "        for val in col:\n",
    "            if val == code_dict['empty']:\n",
    "                empty_indices.append(i)\n",
    "\n",
    "            i = i + 1\n",
    "\n",
    "        # get series labels at the empty indices for .drop function\n",
    "        col_labels = list(col.index)\n",
    "\n",
    "        empty_labels = []\n",
    "        for index in empty_indices:\n",
    "            empty_labels.append(col_labels[index])\n",
    "\n",
    "        col_without_empty = col.drop(empty_labels)\n",
    "\n",
    "        col_mean = col_without_empty.mean()\n",
    "\n",
    "        i = 0\n",
    "        for val in col:\n",
    "            if val == code_dict['empty']:\n",
    "                col[i] = col_mean\n",
    "\n",
    "            i = i + 1\n",
    "        \n",
    "        df[column] = col\n",
    "\n",
    "    # convert all cols to numeric vals\n",
    "    df = df.astype('int64')\n",
    "\n",
    "    return df"
   ]
  },
  {
   "cell_type": "code",
   "execution_count": 13,
   "id": "19d57e60",
   "metadata": {},
   "outputs": [],
   "source": [
    "df = tokenize_dataset(df)"
   ]
  },
  {
   "cell_type": "code",
   "execution_count": 14,
   "id": "bc381b44",
   "metadata": {},
   "outputs": [],
   "source": [
    "from sklearn.model_selection import train_test_split\n",
    "train_ids, test_ids = train_test_split(image_ids, test_size=0.2, random_state=84)\n",
    "test_ids, val_ids = train_test_split(test_ids, test_size=0.5, random_state=84)"
   ]
  },
  {
   "cell_type": "markdown",
   "id": "d8a3ed45",
   "metadata": {},
   "source": [
    "get patients in clinical data with ids that correspond with image ids"
   ]
  },
  {
   "cell_type": "code",
   "execution_count": 15,
   "id": "709cdcea",
   "metadata": {},
   "outputs": [],
   "source": [
    "filtered_df = df.loc[image_ids]"
   ]
  },
  {
   "cell_type": "code",
   "execution_count": 16,
   "id": "d30d7e5a",
   "metadata": {},
   "outputs": [],
   "source": [
    "clinical_x = filtered_df.drop(target, axis=1)"
   ]
  },
  {
   "cell_type": "code",
   "execution_count": 17,
   "id": "3b3e9dbf",
   "metadata": {},
   "outputs": [],
   "source": [
    "y = filtered_df[target]"
   ]
  },
  {
   "cell_type": "code",
   "execution_count": 18,
   "id": "648b3f66",
   "metadata": {},
   "outputs": [],
   "source": [
    "x = [img_array, clinical_x]"
   ]
  },
  {
   "cell_type": "code",
   "execution_count": 19,
   "id": "f1d9c37a",
   "metadata": {},
   "outputs": [],
   "source": [
    "X_train = []\n",
    "X_test = []\n",
    "X_val = []\n",
    "for modality in x:\n",
    "    i_X_train, i_X_test, y_train, y_test = train_test_split(modality, y, test_size=0.2, random_state=84)\n",
    "    \n",
    "    i_X_test, i_X_val = train_test_split(i_X_test, test_size=0.5, random_state=84)\n",
    "    y_test, y_val = train_test_split(y_test, test_size=0.5, random_state=84)\n",
    "    \n",
    "    X_train.append(i_X_train)\n",
    "    X_test.append(i_X_test)\n",
    "    X_val.append(i_X_val)"
   ]
  },
  {
   "cell_type": "markdown",
   "id": "e3c1631d",
   "metadata": {},
   "source": [
    "normalize data"
   ]
  },
  {
   "cell_type": "code",
   "execution_count": 20,
   "id": "e9f3e444",
   "metadata": {},
   "outputs": [],
   "source": [
    "import tensorflow as tf\n",
    "def four_dim_normalization(img_array):\n",
    "    i = 0\n",
    "    for p in img_array:\n",
    "        s = tf.image.per_image_standardization(p)\n",
    "        img_array[i] = s\n",
    "        i = i + 1\n",
    "        \n",
    "    return img_array"
   ]
  },
  {
   "cell_type": "code",
   "execution_count": 21,
   "id": "289c9c12",
   "metadata": {},
   "outputs": [],
   "source": [
    "X_train[0] = four_dim_normalization(X_train[0])\n",
    "X_test[0] = four_dim_normalization(X_test[0])\n",
    "X_val[0] = four_dim_normalization(X_val[0])"
   ]
  },
  {
   "cell_type": "code",
   "execution_count": 22,
   "id": "42f6eb62",
   "metadata": {},
   "outputs": [],
   "source": [
    "from sklearn.preprocessing import MinMaxScaler\n",
    "min_max_scaler = MinMaxScaler()\n",
    "X_train[1] = min_max_scaler.fit_transform(X_train[1])\n",
    "X_test[1] = min_max_scaler.fit_transform(X_test[1])\n",
    "X_val[1] = min_max_scaler.fit_transform(X_val[1])"
   ]
  },
  {
   "cell_type": "markdown",
   "id": "ff73f263",
   "metadata": {},
   "source": [
    "Use Isolation Forest to identify and remove outlier patients"
   ]
  },
  {
   "cell_type": "code",
   "execution_count": 23,
   "id": "2b2fee1f",
   "metadata": {},
   "outputs": [],
   "source": [
    "from sklearn.ensemble import IsolationForest\n",
    "import pandas as pd\n",
    "import numpy as np\n",
    "import matplotlib.pyplot as plt\n",
    "from sklearn.decomposition import PCA\n",
    "from sklearn.preprocessing import StandardScaler\n",
    "\n",
    "def isolation_forest(features, target):\n",
    "\n",
    "    isolated_forest=IsolationForest(n_estimators=2, n_jobs=-1, random_state=42) \n",
    "    if type(features) == tuple or type(features) == list:\n",
    "        # concatenate features for image clinical\n",
    "        clinical_array = features[0]\n",
    "        image_array = features[1]\n",
    "\n",
    "        new_array = np.empty(shape=(image_array.shape[0], int(image_array.shape[1])**2))\n",
    "        i = 0\n",
    "        for image in image_array:\n",
    "            image = np.reshape(image, (1, int(image_array.shape[1])**2))\n",
    "            new_array[i] = image\n",
    "\n",
    "            i = i + 1\n",
    "        \n",
    "        image_array = new_array\n",
    "\n",
    "        concatenated_array = np.concatenate((clinical_array, image_array), axis=1)\n",
    "        \n",
    "        isolated_forest.fit(concatenated_array, target)\n",
    "        predicted = isolated_forest.predict(concatenated_array)\n",
    "    else:\n",
    "        isolated_forest.fit(features, target)\n",
    "        predicted = isolated_forest.predict(features)\n",
    "\n",
    "    predicted_df = pd.DataFrame(predicted)\n",
    "    predicted_df.to_csv('data_anomaly.csv')\n",
    "\n",
    "    outlier_indices = []\n",
    "    i = 0\n",
    "    for prediction in predicted:\n",
    "        if prediction == -1:\n",
    "            outlier_indices.append(i)\n",
    "\n",
    "        i = i + 1\n",
    "\n",
    "    pca = PCA(n_components=3)\n",
    "\n",
    "    if type(features) == tuple or type(features) == list:\n",
    "        features = concatenated_array\n",
    "\n",
    "    scaler = StandardScaler()\n",
    "    features = scaler.fit_transform(features)\n",
    "    features = pca.fit_transform(features)\n",
    "\n",
    "    fig = plt.figure()\n",
    "    fig.suptitle(\"3D PCA of Features with Outliers and Inliers\")\n",
    "    ax = fig.add_subplot(111, projection='3d')\n",
    "\n",
    "    ax.scatter(features[:, 0], features[:, 1], zs=features[:, 2], s=4, lw=1, label=\"inliers\", c=\"green\")\n",
    "\n",
    "    ax.scatter(features[outlier_indices,0], features[outlier_indices,1], features[outlier_indices,2], lw=2, s=60, marker='x', c='red', label='outliers')\n",
    "\n",
    "    ax.legend()\n",
    "\n",
    "    return predicted"
   ]
  },
  {
   "cell_type": "code",
   "execution_count": 24,
   "id": "696008b3",
   "metadata": {},
   "outputs": [],
   "source": [
    "def remove_outliers(X, y):\n",
    "    predicted = isolation_forest(X, y)\n",
    "    \n",
    "    non_outlier_indices = []\n",
    "    i = 0\n",
    "    for prediction in predicted:\n",
    "        if prediction != -1:\n",
    "            non_outlier_indices.append(i)\n",
    "        i = i + 1\n",
    "        \n",
    "    num_outliers = len(predicted) - len(non_outlier_indices)\n",
    "    \n",
    "    print('Num Outliers', num_outliers)\n",
    "    \n",
    "    X = X[non_outlier_indices]\n",
    "    y = y.iloc[non_outlier_indices]\n",
    "    \n",
    "    return X, y"
   ]
  },
  {
   "cell_type": "code",
   "execution_count": 25,
   "id": "5b6d0526",
   "metadata": {},
   "outputs": [
    {
     "name": "stdout",
     "output_type": "stream",
     "text": [
      "Num Outliers 4\n"
     ]
    },
    {
     "data": {
      "image/png": "[encoded data removed]",
      "text/plain": [
       "<Figure size 432x288 with 1 Axes>"
      ]
     },
     "metadata": {
      "needs_background": "light"
     },
     "output_type": "display_data"
    }
   ],
   "source": [
    "prev_indices = list(y_train.index)\n",
    "X_train[1], y_train = remove_outliers(X_train[1], y_train)\n",
    "\n",
    "removed_indices = []\n",
    "j = 0\n",
    "for i in prev_indices:\n",
    "    if i not in list(y_train.index):\n",
    "        removed_indices.append(j)\n",
    "        \n",
    "    j = j + 1\n",
    "\n",
    "X_train[0] = np.delete(X_train[0], removed_indices, 0)"
   ]
  },
  {
   "cell_type": "markdown",
   "id": "2f9a4def",
   "metadata": {},
   "source": [
    "Apply random cropping"
   ]
  },
  {
   "cell_type": "code",
   "execution_count": 26,
   "id": "31a4033b",
   "metadata": {},
   "outputs": [],
   "source": [
    "X_train[0] = tf.image.random_crop(X_train[0], (X_train[0].shape[0], X_train[0].shape[1], 256, 256))\n",
    "X_test[0] = tf.image.random_crop(X_test[0], (X_test[0].shape[0], X_test[0].shape[1], 256, 256))\n",
    "X_val[0] = tf.image.random_crop(X_val[0], (X_val[0].shape[0], X_val[0].shape[1], 256, 256))"
   ]
  },
  {
   "cell_type": "markdown",
   "id": "3d2de1d4",
   "metadata": {},
   "source": [
    "Define model"
   ]
  },
  {
   "cell_type": "code",
   "execution_count": 27,
   "id": "779f66c5",
   "metadata": {},
   "outputs": [],
   "source": [
    "def grey_to_rgb(img_array):\n",
    "    width = img_array.shape[-3]\n",
    "    height = img_array.shape[-2]\n",
    "    new_img_array = np.empty((img_array.shape[0], img_array.shape[1], width, height, 3), dtype=np.uint8)\n",
    "    i = 0\n",
    "    for p in img_array:\n",
    "        new_p = np.empty((p.shape[0], width, height, 3), dtype=np.float16)\n",
    "        j = 0\n",
    "        for s in p:\n",
    "            s = np.squeeze(s)\n",
    "            out = np.empty((width, height, 3), dtype=np.float16)\n",
    "            out[:, :, 0] = s\n",
    "            out[:, :, 1] = s\n",
    "            out[:, :, 2] = s\n",
    "\n",
    "            new_p[j] = out\n",
    "\n",
    "            j = j + 1\n",
    "\n",
    "        new_img_array[i] = new_p\n",
    "\n",
    "        i = i + 1\n",
    "    \n",
    "    return new_img_array"
   ]
  },
  {
   "cell_type": "code",
   "execution_count": 28,
   "id": "e9967cce",
   "metadata": {},
   "outputs": [],
   "source": [
    "import torch.nn as nn\n",
    "from torch.autograd import Variable\n",
    "\n",
    "class image_clinical(nn.Module):\n",
    "    def __init__(self, num_classes):\n",
    "        super().__init__()\n",
    "        self.num_classes = num_classes\n",
    "        self.relu = nn.ReLU()\n",
    "        self.clinical_track()\n",
    "        self.image_track()\n",
    "        \n",
    "        self.fc1_cat = nn.Linear(415, 26)\n",
    "        self.fc2_cat = nn.Linear(26, num_classes)\n",
    "        \n",
    "    def clinical_track(self):\n",
    "        self.fc1 = nn.Linear(603, 50)\n",
    "        self.fc2 = nn.Linear(50, 25)\n",
    "        self.fc3 = nn.Linear(25, 15)\n",
    "\n",
    "    def image_track(self):\n",
    "        self.res = None\n",
    "    \n",
    "    def forward(self, data):\n",
    "        image_data = data[0]\n",
    "        clinical_data = data[1]\n",
    "        \n",
    "        # clinical\n",
    "        clinical_x = self.relu(self.fc1(clinical_data))\n",
    "        clinical_x = self.relu(self.fc2(clinical_x))\n",
    "        clinical_x = self.relu(self.fc3(clinical_x))\n",
    "        \n",
    "        # image\n",
    "        image_x = self.res(image_data)\n",
    "        \n",
    "        x = torch.cat([clinical_x, image_x], dim=1)\n",
    "        \n",
    "        x = self.relu(self.fc1_cat(x))\n",
    "        x = self.fc2_cat(x)\n",
    "        \n",
    "        return x\n",
    "    \n",
    "    def train_func(self, config, data):\n",
    "        id_X_train = data[0]\n",
    "        id_y_train = data[1]\n",
    "        self.res = data[2]\n",
    "        X_train = ray.get(id_X_train)\n",
    "        y_train = ray.get(id_y_train)\n",
    "        epochs = config['epochs']\n",
    "        batch_size = config['batch_size']\n",
    "        lr = config['lr']\n",
    "        self.criterion = torch.nn.CrossEntropyLoss()\n",
    "        for epoch in range(int(epochs)):\n",
    "            running_loss = 0.0\n",
    "            for i in range((X_train[1].shape[0]-1)//batch_size + 1):\n",
    "\n",
    "                start_i = i*batch_size\n",
    "                end_i = start_i+batch_size\n",
    "\n",
    "                xb = [X_train[0][start_i:end_i], X_train[1][start_i:end_i]]\n",
    "\n",
    "                yb = y_train[start_i:end_i]\n",
    "                print(type(yb))\n",
    "                yb = Variable(yb)\n",
    "\n",
    "                xb[0] = torch.unsqueeze(xb[0].type(torch.float), -1)\n",
    "                xb[0] = grey_to_rgb(xb[0])/255\n",
    "                # reshape to have 3 channels\n",
    "                xb[0] = np.reshape(xb[0], (xb[0].shape[0], xb[0].shape[-1], xb[0].shape[1], xb[0].shape[2], xb[0].shape[3]))\n",
    "                xb[0] = torch.from_numpy(xb[0]).type(torch.float)\n",
    "                xb[1] = xb[1].type(torch.float)\n",
    "                pred = self(xb)\n",
    "\n",
    "                optimizer = torch.optim.Adam(self.parameters(), lr=lr)\n",
    "\n",
    "                loss = self.criterion(pred, yb)\n",
    "        \n",
    "                loss.backward()\n",
    "                optimizer.step()\n",
    "\n",
    "                # zero the parameter gradients\n",
    "                optimizer.zero_grad()\n",
    "\n",
    "                # print stats\n",
    "                running_loss += loss.item()\n",
    "                pred = pred.detach()\n",
    "                self.loss = running_loss\n",
    "                pred = np.argmax(pred, axis=1)\n",
    "                self.accuracy = accuracy_score(yb, pred)\n",
    "                self.f1_score = f1_m(yb, pred)\n",
    "                self.recall = recall_m(yb, pred)\n",
    "                self.balanced_acc = balanced_accuracy_score(yb, pred)\n",
    "                if i % 2000 == 1999: # print every 2000 mini-batches\n",
    "                    print(f'[{epoch + 1}, {i + 1:5d}] loss: {running_loss / 2000:.3f}', 'Accuracy: %.4f' %self.accuracy, 'F1: %.4f' %self.f1_score, 'Recall: %.4f' %self.recall, 'Balanced Accuracy: %.4f' %self.balanced_acc)\n",
    "                tune.report(loss=running_loss, accuracy=self.accuracy)\n",
    "                running_loss = 0.0\n",
    "\n",
    "        print(\"Finished Training\")"
   ]
  },
  {
   "cell_type": "code",
   "execution_count": 29,
   "id": "7e05c929",
   "metadata": {},
   "outputs": [],
   "source": [
    "import torchvision.models as models\n",
    "from ray.tune.schedulers.async_hyperband import ASHAScheduler\n",
    "import ray\n",
    "from ray import tune\n",
    "\n",
    "class image_model:\n",
    "\n",
    "    def __init__(self, load_model=True):\n",
    "        self.load_model = load_model\n",
    "        self.res = models.video.r3d_18(pretrained=False)\n",
    "\n",
    "    def main(self, X_train, y_train, num_samples=10, max_num_epochs=10, gpus_per_trial=2):\n",
    "        # get number of classes in y\n",
    "        y = []\n",
    "        for i in y_train:\n",
    "            i = int(i)\n",
    "            y.append(i)\n",
    "        \n",
    "        y = list(set(y))\n",
    "        num_classes = len(y)\n",
    "\n",
    "        # make classes start from 0\n",
    "        class_dict = dict()\n",
    "        for i in range(num_classes):\n",
    "            class_dict[y[i]] = i\n",
    "\n",
    "        i = 0\n",
    "        for val in y_train:\n",
    "            new_val = class_dict[int(val)]\n",
    "            y_train[i] = new_val\n",
    "            i = i + 1\n",
    "\n",
    "        if len(y_train.shape) > 1:\n",
    "            self.multi_target = True\n",
    "        else:\n",
    "            self.multi_target = False\n",
    "            \n",
    "        id_X_train = ray.put(X_train)\n",
    "        id_y_train = ray.put(y_train)\n",
    "\n",
    "        self.model = image_clinical(num_classes)\n",
    "\n",
    "        config = {\n",
    "            'epochs':tune.choice([50, 100, 150]),\n",
    "            'batch_size':tune.choice([8, 16, 20]),\n",
    "            'lr':tune.loguniform(1e-4, 1e-1)\n",
    "        }      \n",
    "        scheduler = ASHAScheduler(\n",
    "            max_t=max_num_epochs,\n",
    "            grace_period=1,\n",
    "            reduction_factor=3)\n",
    "        if torch.cuda.is_available():\n",
    "            result = tune.run(\n",
    "                tune.with_parameters(self.model.train_func, data=[id_X_train, id_y_train, self.res]),\n",
    "                resources_per_trial={\"cpu\":4, \"gpu\":gpus_per_trial},\n",
    "                config=config,\n",
    "                metric=\"accuracy\",\n",
    "                mode=\"min\",\n",
    "                num_samples=num_samples,\n",
    "                scheduler=scheduler\n",
    "            )\n",
    "        else:\n",
    "            result = tune.run(\n",
    "                tune.with_parameters(self.model.train_func, data=[id_X_train, id_y_train, self.res]),\n",
    "                resources_per_trial={\"cpu\":4},\n",
    "                config=config,\n",
    "                metric=\"accuracy\",\n",
    "                mode=\"min\",\n",
    "                num_samples=num_samples,\n",
    "                scheduler=scheduler\n",
    "            )\n",
    "\n",
    "        best_trial = result.get_best_trial(\"loss\", \"min\", \"last\")\n",
    "        print(\"Best trial config: {}\".format(best_trial.config))\n",
    "        print(\"Best trial final validation loss: {}\".format(\n",
    "            best_trial.last_result[\"loss\"]))\n",
    "        print(\"Best trial final validation accuracy: {}\".format(\n",
    "            best_trial.last_result['accuracy']))\n",
    "\n",
    "        self.model.train_func(config=best_trial.config, data=[id_X_train, id_y_train, self.res])\n",
    "\n",
    "        torch.save(self.model.state_dict(), \"torch_image_clinical_model.pth\")\n",
    "\n",
    "        return self.model\n",
    "\n",
    "    def test_model(self, X_test, y_test):\n",
    "        X_test = [torch.from_numpy(np.array(X_test[0])).type(torch.float), torch.from_numpy(np.array(X_test[1])).type(torch.float)]\n",
    "        X_test[0] = torch.unsqueeze(X_test[0], -1)\n",
    "        X_test[0] = grey_to_rgb(X_test[0])/255\n",
    "        # reshape to have 3 channels\n",
    "        X_test[0] = np.reshape(X_test[0], (X_test[0].shape[0], X_test[0].shape[-1], X_test[0].shape[1], X_test[0].shape[2], X_test[0].shape[3]))\n",
    "        i = 0\n",
    "        for arr in X_test:\n",
    "            if type(arr) == np.ndarray:\n",
    "                arr = torch.from_numpy(arr).type(torch.float)\n",
    "                X_test[i] = arr\n",
    "            i = i + 1\n",
    "        self.criterion = torch.nn.CrossEntropyLoss()\n",
    "        y_test = torch.from_numpy(np.array(y_test)).type(torch.float)\n",
    "        with torch.no_grad():\n",
    "            y_pred = self.model(X_test)\n",
    "            confusion_matrix(y_test, y_pred, save_name=\"image_only_c_mat_torch\")\n",
    "            test_loss = self.criterion(y_pred, y_test)\n",
    "            accuracy = accuracy_score(y_test, y_pred)\n",
    "            f1_score = f1_m(y_test, y_pred)\n",
    "            recall = recall_m(y_test, y_pred)\n",
    "            balanced_acc = balanced_accuracy_score(y_test, y_pred)\n",
    "\n",
    "        return test_loss, accuracy, f1_score, recall, balanced_acc\n",
    "\n",
    "    def get_model(self, X_train=None, y_train=None, X_val=None, y_val=None, epochs=10, batch_size=128):\n",
    "        \n",
    "        if self.load_model:\n",
    "            self.model = image_clinical()\n",
    "            self.model.res = self.res\n",
    "            self.model.load_state_dict(torch.load(\"torch_image_clinical_model.pth\"), strict=False)\n",
    "        else:\n",
    "            self.model = self.main(X_train, y_train)\n",
    "\n",
    "        return self.model"
   ]
  },
  {
   "cell_type": "code",
   "execution_count": 30,
   "id": "a03fc7af",
   "metadata": {},
   "outputs": [],
   "source": [
    "model = image_model(load_model=False)"
   ]
  },
  {
   "cell_type": "code",
   "execution_count": 31,
   "id": "366e7877",
   "metadata": {},
   "outputs": [],
   "source": [
    "import torch\n",
    "\n",
    "i = 0\n",
    "for train, val in zip(X_train, X_val):\n",
    "    train = torch.from_numpy(np.array(train))\n",
    "    val = torch.from_numpy(np.array(val))\n",
    "    \n",
    "    X_train[i] = train\n",
    "    X_val[i] = val\n",
    "    \n",
    "    i = i + 1\n",
    "    \n",
    "y_train = torch.from_numpy(np.array(y_train))\n",
    "y_val = torch.from_numpy(np.array(y_val))"
   ]
  },
  {
   "cell_type": "code",
   "execution_count": 32,
   "id": "43355854",
   "metadata": {},
   "outputs": [
    {
     "name": "stdout",
     "output_type": "stream",
     "text": [
      "torch.Size([6, 100, 256, 256])\n",
      "torch.Size([6, 603])\n"
     ]
    },
    {
     "name": "stderr",
     "output_type": "stream",
     "text": [
      "2022-07-09 12:46:15,197\tWARNING function_runner.py:598 -- Function checkpointing is disabled. This may result in unexpected behavior when using checkpointing features or certain schedulers. To enable, set the train function arguments to be `func(config, checkpoint_dir=None)`.\n",
      "2022-07-09 12:46:15,581\tINFO trial_runner.py:803 -- starting train_func_0787e_00000\n",
      "2022-07-09 12:46:15,693\tERROR syncer.py:119 -- Log sync requires rsync to be installed.\n",
      "\u001b[2m\u001b[36m(pid=)\u001b[0m C:\\Users\\trist\\cs_projects\\Cancer_Project\\Cancer_ML\\env\\lib\\site-packages\\requests\\__init__.py:102: RequestsDependencyWarning: urllib3 (1.26.7) or chardet (5.0.0)/charset_normalizer (2.0.6) doesn't match a supported version!\n",
      "\u001b[2m\u001b[36m(pid=)\u001b[0m   warnings.warn(\"urllib3 ({}) or chardet ({})/charset_normalizer ({}) doesn't match a supported \"\n",
      "\u001b[2m\u001b[36m(pid=)\u001b[0m C:\\Users\\trist\\cs_projects\\Cancer_Project\\Cancer_ML\\env\\lib\\site-packages\\requests\\__init__.py:102: RequestsDependencyWarning: urllib3 (1.26.7) or chardet (5.0.0)/charset_normalizer (2.0.6) doesn't match a supported version!\n",
      "\u001b[2m\u001b[36m(pid=)\u001b[0m   warnings.warn(\"urllib3 ({}) or chardet ({})/charset_normalizer ({}) doesn't match a supported \"\n"
     ]
    },
    {
     "data": {
      "text/html": [
       "== Status ==<br>Current time: 2022-07-09 12:46:19 (running for 00:00:04.55)<br>Memory usage on this node: 11.4/15.6 GiB<br>Using AsyncHyperBand: num_stopped=0\n",
       "Bracket: Iter 9.000: None | Iter 3.000: None | Iter 1.000: None<br>Resources requested: 4.0/8 CPUs, 0/0 GPUs, 0.0/2.79 GiB heap, 0.0/1.4 GiB objects<br>Result logdir: C:\\Users\\trist\\ray_results\\train_func_2022-07-09_12-46-15<br>Number of trials: 10/10 (9 PENDING, 1 RUNNING)<br><table>\n",
       "<thead>\n",
       "<tr><th>Trial name            </th><th>status  </th><th>loc            </th><th style=\"text-align: right;\">  batch_size</th><th style=\"text-align: right;\">  epochs</th><th style=\"text-align: right;\">         lr</th></tr>\n",
       "</thead>\n",
       "<tbody>\n",
       "<tr><td>train_func_0787e_00000</td><td>RUNNING </td><td>127.0.0.1:14900</td><td style=\"text-align: right;\">           8</td><td style=\"text-align: right;\">      50</td><td style=\"text-align: right;\">0.00755458 </td></tr>\n",
       "<tr><td>train_func_0787e_00001</td><td>PENDING </td><td>               </td><td style=\"text-align: right;\">          20</td><td style=\"text-align: right;\">     150</td><td style=\"text-align: right;\">0.000117863</td></tr>\n",
       "<tr><td>train_func_0787e_00002</td><td>PENDING </td><td>               </td><td style=\"text-align: right;\">          20</td><td style=\"text-align: right;\">     100</td><td style=\"text-align: right;\">0.000438003</td></tr>\n",
       "<tr><td>train_func_0787e_00003</td><td>PENDING </td><td>               </td><td style=\"text-align: right;\">           8</td><td style=\"text-align: right;\">     100</td><td style=\"text-align: right;\">0.0303044  </td></tr>\n",
       "<tr><td>train_func_0787e_00004</td><td>PENDING </td><td>               </td><td style=\"text-align: right;\">          20</td><td style=\"text-align: right;\">     150</td><td style=\"text-align: right;\">0.000203301</td></tr>\n",
       "<tr><td>train_func_0787e_00005</td><td>PENDING </td><td>               </td><td style=\"text-align: right;\">          20</td><td style=\"text-align: right;\">     150</td><td style=\"text-align: right;\">0.00173267 </td></tr>\n",
       "<tr><td>train_func_0787e_00006</td><td>PENDING </td><td>               </td><td style=\"text-align: right;\">          20</td><td style=\"text-align: right;\">     100</td><td style=\"text-align: right;\">0.000246187</td></tr>\n",
       "<tr><td>train_func_0787e_00007</td><td>PENDING </td><td>               </td><td style=\"text-align: right;\">           8</td><td style=\"text-align: right;\">     100</td><td style=\"text-align: right;\">0.0772869  </td></tr>\n",
       "<tr><td>train_func_0787e_00008</td><td>PENDING </td><td>               </td><td style=\"text-align: right;\">           8</td><td style=\"text-align: right;\">      50</td><td style=\"text-align: right;\">0.000393541</td></tr>\n",
       "<tr><td>train_func_0787e_00009</td><td>PENDING </td><td>               </td><td style=\"text-align: right;\">           8</td><td style=\"text-align: right;\">     100</td><td style=\"text-align: right;\">0.00309822 </td></tr>\n",
       "</tbody>\n",
       "</table><br><br>"
      ],
      "text/plain": [
       "<IPython.core.display.HTML object>"
      ]
     },
     "metadata": {},
     "output_type": "display_data"
    },
    {
     "name": "stderr",
     "output_type": "stream",
     "text": [
      "2022-07-09 12:46:19,860\tINFO trial_runner.py:803 -- starting train_func_0787e_00001\n"
     ]
    },
    {
     "name": "stdout",
     "output_type": "stream",
     "text": [
      "\u001b[2m\u001b[36m(train_func pid=14900)\u001b[0m <class 'torch.Tensor'>\n"
     ]
    },
    {
     "name": "stderr",
     "output_type": "stream",
     "text": [
      "\u001b[2m\u001b[36m(pid=)\u001b[0m C:\\Users\\trist\\cs_projects\\Cancer_Project\\Cancer_ML\\env\\lib\\site-packages\\requests\\__init__.py:102: RequestsDependencyWarning: urllib3 (1.26.7) or chardet (5.0.0)/charset_normalizer (2.0.6) doesn't match a supported version!\n",
      "\u001b[2m\u001b[36m(pid=)\u001b[0m   warnings.warn(\"urllib3 ({}) or chardet ({})/charset_normalizer ({}) doesn't match a supported \"\n",
      "\u001b[2m\u001b[36m(pid=)\u001b[0m C:\\Users\\trist\\cs_projects\\Cancer_Project\\Cancer_ML\\env\\lib\\site-packages\\requests\\__init__.py:102: RequestsDependencyWarning: urllib3 (1.26.7) or chardet (5.0.0)/charset_normalizer (2.0.6) doesn't match a supported version!\n",
      "\u001b[2m\u001b[36m(pid=)\u001b[0m   warnings.warn(\"urllib3 ({}) or chardet ({})/charset_normalizer ({}) doesn't match a supported \"\n"
     ]
    },
    {
     "data": {
      "text/html": [
       "== Status ==<br>Current time: 2022-07-09 12:46:24 (running for 00:00:09.63)<br>Memory usage on this node: 13.1/15.6 GiB<br>Using AsyncHyperBand: num_stopped=0\n",
       "Bracket: Iter 9.000: None | Iter 3.000: None | Iter 1.000: None<br>Resources requested: 8.0/8 CPUs, 0/0 GPUs, 0.0/2.79 GiB heap, 0.0/1.4 GiB objects<br>Result logdir: C:\\Users\\trist\\ray_results\\train_func_2022-07-09_12-46-15<br>Number of trials: 10/10 (8 PENDING, 2 RUNNING)<br><table>\n",
       "<thead>\n",
       "<tr><th>Trial name            </th><th>status  </th><th>loc            </th><th style=\"text-align: right;\">  batch_size</th><th style=\"text-align: right;\">  epochs</th><th style=\"text-align: right;\">         lr</th></tr>\n",
       "</thead>\n",
       "<tbody>\n",
       "<tr><td>train_func_0787e_00000</td><td>RUNNING </td><td>127.0.0.1:14900</td><td style=\"text-align: right;\">           8</td><td style=\"text-align: right;\">      50</td><td style=\"text-align: right;\">0.00755458 </td></tr>\n",
       "<tr><td>train_func_0787e_00001</td><td>RUNNING </td><td>127.0.0.1:22024</td><td style=\"text-align: right;\">          20</td><td style=\"text-align: right;\">     150</td><td style=\"text-align: right;\">0.000117863</td></tr>\n",
       "<tr><td>train_func_0787e_00002</td><td>PENDING </td><td>               </td><td style=\"text-align: right;\">          20</td><td style=\"text-align: right;\">     100</td><td style=\"text-align: right;\">0.000438003</td></tr>\n",
       "<tr><td>train_func_0787e_00003</td><td>PENDING </td><td>               </td><td style=\"text-align: right;\">           8</td><td style=\"text-align: right;\">     100</td><td style=\"text-align: right;\">0.0303044  </td></tr>\n",
       "<tr><td>train_func_0787e_00004</td><td>PENDING </td><td>               </td><td style=\"text-align: right;\">          20</td><td style=\"text-align: right;\">     150</td><td style=\"text-align: right;\">0.000203301</td></tr>\n",
       "<tr><td>train_func_0787e_00005</td><td>PENDING </td><td>               </td><td style=\"text-align: right;\">          20</td><td style=\"text-align: right;\">     150</td><td style=\"text-align: right;\">0.00173267 </td></tr>\n",
       "<tr><td>train_func_0787e_00006</td><td>PENDING </td><td>               </td><td style=\"text-align: right;\">          20</td><td style=\"text-align: right;\">     100</td><td style=\"text-align: right;\">0.000246187</td></tr>\n",
       "<tr><td>train_func_0787e_00007</td><td>PENDING </td><td>               </td><td style=\"text-align: right;\">           8</td><td style=\"text-align: right;\">     100</td><td style=\"text-align: right;\">0.0772869  </td></tr>\n",
       "<tr><td>train_func_0787e_00008</td><td>PENDING </td><td>               </td><td style=\"text-align: right;\">           8</td><td style=\"text-align: right;\">      50</td><td style=\"text-align: right;\">0.000393541</td></tr>\n",
       "<tr><td>train_func_0787e_00009</td><td>PENDING </td><td>               </td><td style=\"text-align: right;\">           8</td><td style=\"text-align: right;\">     100</td><td style=\"text-align: right;\">0.00309822 </td></tr>\n",
       "</tbody>\n",
       "</table><br><br>"
      ],
      "text/plain": [
       "<IPython.core.display.HTML object>"
      ]
     },
     "metadata": {},
     "output_type": "display_data"
    },
    {
     "name": "stdout",
     "output_type": "stream",
     "text": [
      "\u001b[2m\u001b[36m(train_func pid=22024)\u001b[0m <class 'torch.Tensor'>\n"
     ]
    },
    {
     "data": {
      "text/html": [
       "== Status ==<br>Current time: 2022-07-09 12:46:30 (running for 00:00:14.71)<br>Memory usage on this node: 13.8/15.6 GiB<br>Using AsyncHyperBand: num_stopped=0\n",
       "Bracket: Iter 9.000: None | Iter 3.000: None | Iter 1.000: None<br>Resources requested: 8.0/8 CPUs, 0/0 GPUs, 0.0/2.79 GiB heap, 0.0/1.4 GiB objects<br>Result logdir: C:\\Users\\trist\\ray_results\\train_func_2022-07-09_12-46-15<br>Number of trials: 10/10 (8 PENDING, 2 RUNNING)<br><table>\n",
       "<thead>\n",
       "<tr><th>Trial name            </th><th>status  </th><th>loc            </th><th style=\"text-align: right;\">  batch_size</th><th style=\"text-align: right;\">  epochs</th><th style=\"text-align: right;\">         lr</th></tr>\n",
       "</thead>\n",
       "<tbody>\n",
       "<tr><td>train_func_0787e_00000</td><td>RUNNING </td><td>127.0.0.1:14900</td><td style=\"text-align: right;\">           8</td><td style=\"text-align: right;\">      50</td><td style=\"text-align: right;\">0.00755458 </td></tr>\n",
       "<tr><td>train_func_0787e_00001</td><td>RUNNING </td><td>127.0.0.1:22024</td><td style=\"text-align: right;\">          20</td><td style=\"text-align: right;\">     150</td><td style=\"text-align: right;\">0.000117863</td></tr>\n",
       "<tr><td>train_func_0787e_00002</td><td>PENDING </td><td>               </td><td style=\"text-align: right;\">          20</td><td style=\"text-align: right;\">     100</td><td style=\"text-align: right;\">0.000438003</td></tr>\n",
       "<tr><td>train_func_0787e_00003</td><td>PENDING </td><td>               </td><td style=\"text-align: right;\">           8</td><td style=\"text-align: right;\">     100</td><td style=\"text-align: right;\">0.0303044  </td></tr>\n",
       "<tr><td>train_func_0787e_00004</td><td>PENDING </td><td>               </td><td style=\"text-align: right;\">          20</td><td style=\"text-align: right;\">     150</td><td style=\"text-align: right;\">0.000203301</td></tr>\n",
       "<tr><td>train_func_0787e_00005</td><td>PENDING </td><td>               </td><td style=\"text-align: right;\">          20</td><td style=\"text-align: right;\">     150</td><td style=\"text-align: right;\">0.00173267 </td></tr>\n",
       "<tr><td>train_func_0787e_00006</td><td>PENDING </td><td>               </td><td style=\"text-align: right;\">          20</td><td style=\"text-align: right;\">     100</td><td style=\"text-align: right;\">0.000246187</td></tr>\n",
       "<tr><td>train_func_0787e_00007</td><td>PENDING </td><td>               </td><td style=\"text-align: right;\">           8</td><td style=\"text-align: right;\">     100</td><td style=\"text-align: right;\">0.0772869  </td></tr>\n",
       "<tr><td>train_func_0787e_00008</td><td>PENDING </td><td>               </td><td style=\"text-align: right;\">           8</td><td style=\"text-align: right;\">      50</td><td style=\"text-align: right;\">0.000393541</td></tr>\n",
       "<tr><td>train_func_0787e_00009</td><td>PENDING </td><td>               </td><td style=\"text-align: right;\">           8</td><td style=\"text-align: right;\">     100</td><td style=\"text-align: right;\">0.00309822 </td></tr>\n",
       "</tbody>\n",
       "</table><br><br>"
      ],
      "text/plain": [
       "<IPython.core.display.HTML object>"
      ]
     },
     "metadata": {},
     "output_type": "display_data"
    },
    {
     "data": {
      "text/html": [
       "== Status ==<br>Current time: 2022-07-09 12:46:35 (running for 00:00:19.77)<br>Memory usage on this node: 14.7/15.6 GiB: ***LOW MEMORY*** less than 10% of the memory on this node is available for use. This can cause unexpected crashes. Consider reducing the memory used by your application or reducing the Ray object store size by setting `object_store_memory` when calling `ray.init`.<br>Using AsyncHyperBand: num_stopped=0\n",
       "Bracket: Iter 9.000: None | Iter 3.000: None | Iter 1.000: None<br>Resources requested: 8.0/8 CPUs, 0/0 GPUs, 0.0/2.79 GiB heap, 0.0/1.4 GiB objects<br>Result logdir: C:\\Users\\trist\\ray_results\\train_func_2022-07-09_12-46-15<br>Number of trials: 10/10 (8 PENDING, 2 RUNNING)<br><table>\n",
       "<thead>\n",
       "<tr><th>Trial name            </th><th>status  </th><th>loc            </th><th style=\"text-align: right;\">  batch_size</th><th style=\"text-align: right;\">  epochs</th><th style=\"text-align: right;\">         lr</th></tr>\n",
       "</thead>\n",
       "<tbody>\n",
       "<tr><td>train_func_0787e_00000</td><td>RUNNING </td><td>127.0.0.1:14900</td><td style=\"text-align: right;\">           8</td><td style=\"text-align: right;\">      50</td><td style=\"text-align: right;\">0.00755458 </td></tr>\n",
       "<tr><td>train_func_0787e_00001</td><td>RUNNING </td><td>127.0.0.1:22024</td><td style=\"text-align: right;\">          20</td><td style=\"text-align: right;\">     150</td><td style=\"text-align: right;\">0.000117863</td></tr>\n",
       "<tr><td>train_func_0787e_00002</td><td>PENDING </td><td>               </td><td style=\"text-align: right;\">          20</td><td style=\"text-align: right;\">     100</td><td style=\"text-align: right;\">0.000438003</td></tr>\n",
       "<tr><td>train_func_0787e_00003</td><td>PENDING </td><td>               </td><td style=\"text-align: right;\">           8</td><td style=\"text-align: right;\">     100</td><td style=\"text-align: right;\">0.0303044  </td></tr>\n",
       "<tr><td>train_func_0787e_00004</td><td>PENDING </td><td>               </td><td style=\"text-align: right;\">          20</td><td style=\"text-align: right;\">     150</td><td style=\"text-align: right;\">0.000203301</td></tr>\n",
       "<tr><td>train_func_0787e_00005</td><td>PENDING </td><td>               </td><td style=\"text-align: right;\">          20</td><td style=\"text-align: right;\">     150</td><td style=\"text-align: right;\">0.00173267 </td></tr>\n",
       "<tr><td>train_func_0787e_00006</td><td>PENDING </td><td>               </td><td style=\"text-align: right;\">          20</td><td style=\"text-align: right;\">     100</td><td style=\"text-align: right;\">0.000246187</td></tr>\n",
       "<tr><td>train_func_0787e_00007</td><td>PENDING </td><td>               </td><td style=\"text-align: right;\">           8</td><td style=\"text-align: right;\">     100</td><td style=\"text-align: right;\">0.0772869  </td></tr>\n",
       "<tr><td>train_func_0787e_00008</td><td>PENDING </td><td>               </td><td style=\"text-align: right;\">           8</td><td style=\"text-align: right;\">      50</td><td style=\"text-align: right;\">0.000393541</td></tr>\n",
       "<tr><td>train_func_0787e_00009</td><td>PENDING </td><td>               </td><td style=\"text-align: right;\">           8</td><td style=\"text-align: right;\">     100</td><td style=\"text-align: right;\">0.00309822 </td></tr>\n",
       "</tbody>\n",
       "</table><br><br>"
      ],
      "text/plain": [
       "<IPython.core.display.HTML object>"
      ]
     },
     "metadata": {},
     "output_type": "display_data"
    },
    {
     "data": {
      "text/html": [
       "== Status ==<br>Current time: 2022-07-09 12:46:40 (running for 00:00:24.83)<br>Memory usage on this node: 15.4/15.6 GiB: ***LOW MEMORY*** less than 10% of the memory on this node is available for use. This can cause unexpected crashes. Consider reducing the memory used by your application or reducing the Ray object store size by setting `object_store_memory` when calling `ray.init`.<br>Using AsyncHyperBand: num_stopped=0\n",
       "Bracket: Iter 9.000: None | Iter 3.000: None | Iter 1.000: None<br>Resources requested: 8.0/8 CPUs, 0/0 GPUs, 0.0/2.79 GiB heap, 0.0/1.4 GiB objects<br>Result logdir: C:\\Users\\trist\\ray_results\\train_func_2022-07-09_12-46-15<br>Number of trials: 10/10 (8 PENDING, 2 RUNNING)<br><table>\n",
       "<thead>\n",
       "<tr><th>Trial name            </th><th>status  </th><th>loc            </th><th style=\"text-align: right;\">  batch_size</th><th style=\"text-align: right;\">  epochs</th><th style=\"text-align: right;\">         lr</th></tr>\n",
       "</thead>\n",
       "<tbody>\n",
       "<tr><td>train_func_0787e_00000</td><td>RUNNING </td><td>127.0.0.1:14900</td><td style=\"text-align: right;\">           8</td><td style=\"text-align: right;\">      50</td><td style=\"text-align: right;\">0.00755458 </td></tr>\n",
       "<tr><td>train_func_0787e_00001</td><td>RUNNING </td><td>127.0.0.1:22024</td><td style=\"text-align: right;\">          20</td><td style=\"text-align: right;\">     150</td><td style=\"text-align: right;\">0.000117863</td></tr>\n",
       "<tr><td>train_func_0787e_00002</td><td>PENDING </td><td>               </td><td style=\"text-align: right;\">          20</td><td style=\"text-align: right;\">     100</td><td style=\"text-align: right;\">0.000438003</td></tr>\n",
       "<tr><td>train_func_0787e_00003</td><td>PENDING </td><td>               </td><td style=\"text-align: right;\">           8</td><td style=\"text-align: right;\">     100</td><td style=\"text-align: right;\">0.0303044  </td></tr>\n",
       "<tr><td>train_func_0787e_00004</td><td>PENDING </td><td>               </td><td style=\"text-align: right;\">          20</td><td style=\"text-align: right;\">     150</td><td style=\"text-align: right;\">0.000203301</td></tr>\n",
       "<tr><td>train_func_0787e_00005</td><td>PENDING </td><td>               </td><td style=\"text-align: right;\">          20</td><td style=\"text-align: right;\">     150</td><td style=\"text-align: right;\">0.00173267 </td></tr>\n",
       "<tr><td>train_func_0787e_00006</td><td>PENDING </td><td>               </td><td style=\"text-align: right;\">          20</td><td style=\"text-align: right;\">     100</td><td style=\"text-align: right;\">0.000246187</td></tr>\n",
       "<tr><td>train_func_0787e_00007</td><td>PENDING </td><td>               </td><td style=\"text-align: right;\">           8</td><td style=\"text-align: right;\">     100</td><td style=\"text-align: right;\">0.0772869  </td></tr>\n",
       "<tr><td>train_func_0787e_00008</td><td>PENDING </td><td>               </td><td style=\"text-align: right;\">           8</td><td style=\"text-align: right;\">      50</td><td style=\"text-align: right;\">0.000393541</td></tr>\n",
       "<tr><td>train_func_0787e_00009</td><td>PENDING </td><td>               </td><td style=\"text-align: right;\">           8</td><td style=\"text-align: right;\">     100</td><td style=\"text-align: right;\">0.00309822 </td></tr>\n",
       "</tbody>\n",
       "</table><br><br>"
      ],
      "text/plain": [
       "<IPython.core.display.HTML object>"
      ]
     },
     "metadata": {},
     "output_type": "display_data"
    },
    {
     "data": {
      "text/html": [
       "== Status ==<br>Current time: 2022-07-09 12:46:45 (running for 00:00:29.90)<br>Memory usage on this node: 15.6/15.6 GiB: ***LOW MEMORY*** less than 10% of the memory on this node is available for use. This can cause unexpected crashes. Consider reducing the memory used by your application or reducing the Ray object store size by setting `object_store_memory` when calling `ray.init`.<br>Using AsyncHyperBand: num_stopped=0\n",
       "Bracket: Iter 9.000: None | Iter 3.000: None | Iter 1.000: None<br>Resources requested: 8.0/8 CPUs, 0/0 GPUs, 0.0/2.79 GiB heap, 0.0/1.4 GiB objects<br>Result logdir: C:\\Users\\trist\\ray_results\\train_func_2022-07-09_12-46-15<br>Number of trials: 10/10 (8 PENDING, 2 RUNNING)<br><table>\n",
       "<thead>\n",
       "<tr><th>Trial name            </th><th>status  </th><th>loc            </th><th style=\"text-align: right;\">  batch_size</th><th style=\"text-align: right;\">  epochs</th><th style=\"text-align: right;\">         lr</th></tr>\n",
       "</thead>\n",
       "<tbody>\n",
       "<tr><td>train_func_0787e_00000</td><td>RUNNING </td><td>127.0.0.1:14900</td><td style=\"text-align: right;\">           8</td><td style=\"text-align: right;\">      50</td><td style=\"text-align: right;\">0.00755458 </td></tr>\n",
       "<tr><td>train_func_0787e_00001</td><td>RUNNING </td><td>127.0.0.1:22024</td><td style=\"text-align: right;\">          20</td><td style=\"text-align: right;\">     150</td><td style=\"text-align: right;\">0.000117863</td></tr>\n",
       "<tr><td>train_func_0787e_00002</td><td>PENDING </td><td>               </td><td style=\"text-align: right;\">          20</td><td style=\"text-align: right;\">     100</td><td style=\"text-align: right;\">0.000438003</td></tr>\n",
       "<tr><td>train_func_0787e_00003</td><td>PENDING </td><td>               </td><td style=\"text-align: right;\">           8</td><td style=\"text-align: right;\">     100</td><td style=\"text-align: right;\">0.0303044  </td></tr>\n",
       "<tr><td>train_func_0787e_00004</td><td>PENDING </td><td>               </td><td style=\"text-align: right;\">          20</td><td style=\"text-align: right;\">     150</td><td style=\"text-align: right;\">0.000203301</td></tr>\n",
       "<tr><td>train_func_0787e_00005</td><td>PENDING </td><td>               </td><td style=\"text-align: right;\">          20</td><td style=\"text-align: right;\">     150</td><td style=\"text-align: right;\">0.00173267 </td></tr>\n",
       "<tr><td>train_func_0787e_00006</td><td>PENDING </td><td>               </td><td style=\"text-align: right;\">          20</td><td style=\"text-align: right;\">     100</td><td style=\"text-align: right;\">0.000246187</td></tr>\n",
       "<tr><td>train_func_0787e_00007</td><td>PENDING </td><td>               </td><td style=\"text-align: right;\">           8</td><td style=\"text-align: right;\">     100</td><td style=\"text-align: right;\">0.0772869  </td></tr>\n",
       "<tr><td>train_func_0787e_00008</td><td>PENDING </td><td>               </td><td style=\"text-align: right;\">           8</td><td style=\"text-align: right;\">      50</td><td style=\"text-align: right;\">0.000393541</td></tr>\n",
       "<tr><td>train_func_0787e_00009</td><td>PENDING </td><td>               </td><td style=\"text-align: right;\">           8</td><td style=\"text-align: right;\">     100</td><td style=\"text-align: right;\">0.00309822 </td></tr>\n",
       "</tbody>\n",
       "</table><br><br>"
      ],
      "text/plain": [
       "<IPython.core.display.HTML object>"
      ]
     },
     "metadata": {},
     "output_type": "display_data"
    },
    {
     "data": {
      "text/html": [
       "== Status ==<br>Current time: 2022-07-09 12:46:50 (running for 00:00:35.00)<br>Memory usage on this node: 13.8/15.6 GiB<br>Using AsyncHyperBand: num_stopped=0\n",
       "Bracket: Iter 9.000: None | Iter 3.000: None | Iter 1.000: None<br>Resources requested: 8.0/8 CPUs, 0/0 GPUs, 0.0/2.79 GiB heap, 0.0/1.4 GiB objects<br>Result logdir: C:\\Users\\trist\\ray_results\\train_func_2022-07-09_12-46-15<br>Number of trials: 10/10 (8 PENDING, 2 RUNNING)<br><table>\n",
       "<thead>\n",
       "<tr><th>Trial name            </th><th>status  </th><th>loc            </th><th style=\"text-align: right;\">  batch_size</th><th style=\"text-align: right;\">  epochs</th><th style=\"text-align: right;\">         lr</th></tr>\n",
       "</thead>\n",
       "<tbody>\n",
       "<tr><td>train_func_0787e_00000</td><td>RUNNING </td><td>127.0.0.1:14900</td><td style=\"text-align: right;\">           8</td><td style=\"text-align: right;\">      50</td><td style=\"text-align: right;\">0.00755458 </td></tr>\n",
       "<tr><td>train_func_0787e_00001</td><td>RUNNING </td><td>127.0.0.1:22024</td><td style=\"text-align: right;\">          20</td><td style=\"text-align: right;\">     150</td><td style=\"text-align: right;\">0.000117863</td></tr>\n",
       "<tr><td>train_func_0787e_00002</td><td>PENDING </td><td>               </td><td style=\"text-align: right;\">          20</td><td style=\"text-align: right;\">     100</td><td style=\"text-align: right;\">0.000438003</td></tr>\n",
       "<tr><td>train_func_0787e_00003</td><td>PENDING </td><td>               </td><td style=\"text-align: right;\">           8</td><td style=\"text-align: right;\">     100</td><td style=\"text-align: right;\">0.0303044  </td></tr>\n",
       "<tr><td>train_func_0787e_00004</td><td>PENDING </td><td>               </td><td style=\"text-align: right;\">          20</td><td style=\"text-align: right;\">     150</td><td style=\"text-align: right;\">0.000203301</td></tr>\n",
       "<tr><td>train_func_0787e_00005</td><td>PENDING </td><td>               </td><td style=\"text-align: right;\">          20</td><td style=\"text-align: right;\">     150</td><td style=\"text-align: right;\">0.00173267 </td></tr>\n",
       "<tr><td>train_func_0787e_00006</td><td>PENDING </td><td>               </td><td style=\"text-align: right;\">          20</td><td style=\"text-align: right;\">     100</td><td style=\"text-align: right;\">0.000246187</td></tr>\n",
       "<tr><td>train_func_0787e_00007</td><td>PENDING </td><td>               </td><td style=\"text-align: right;\">           8</td><td style=\"text-align: right;\">     100</td><td style=\"text-align: right;\">0.0772869  </td></tr>\n",
       "<tr><td>train_func_0787e_00008</td><td>PENDING </td><td>               </td><td style=\"text-align: right;\">           8</td><td style=\"text-align: right;\">      50</td><td style=\"text-align: right;\">0.000393541</td></tr>\n",
       "<tr><td>train_func_0787e_00009</td><td>PENDING </td><td>               </td><td style=\"text-align: right;\">           8</td><td style=\"text-align: right;\">     100</td><td style=\"text-align: right;\">0.00309822 </td></tr>\n",
       "</tbody>\n",
       "</table><br><br>"
      ],
      "text/plain": [
       "<IPython.core.display.HTML object>"
      ]
     },
     "metadata": {},
     "output_type": "display_data"
    },
    {
     "data": {
      "text/html": [
       "== Status ==<br>Current time: 2022-07-09 12:46:55 (running for 00:00:40.05)<br>Memory usage on this node: 15.1/15.6 GiB: ***LOW MEMORY*** less than 10% of the memory on this node is available for use. This can cause unexpected crashes. Consider reducing the memory used by your application or reducing the Ray object store size by setting `object_store_memory` when calling `ray.init`.<br>Using AsyncHyperBand: num_stopped=0\n",
       "Bracket: Iter 9.000: None | Iter 3.000: None | Iter 1.000: None<br>Resources requested: 8.0/8 CPUs, 0/0 GPUs, 0.0/2.79 GiB heap, 0.0/1.4 GiB objects<br>Result logdir: C:\\Users\\trist\\ray_results\\train_func_2022-07-09_12-46-15<br>Number of trials: 10/10 (8 PENDING, 2 RUNNING)<br><table>\n",
       "<thead>\n",
       "<tr><th>Trial name            </th><th>status  </th><th>loc            </th><th style=\"text-align: right;\">  batch_size</th><th style=\"text-align: right;\">  epochs</th><th style=\"text-align: right;\">         lr</th></tr>\n",
       "</thead>\n",
       "<tbody>\n",
       "<tr><td>train_func_0787e_00000</td><td>RUNNING </td><td>127.0.0.1:14900</td><td style=\"text-align: right;\">           8</td><td style=\"text-align: right;\">      50</td><td style=\"text-align: right;\">0.00755458 </td></tr>\n",
       "<tr><td>train_func_0787e_00001</td><td>RUNNING </td><td>127.0.0.1:22024</td><td style=\"text-align: right;\">          20</td><td style=\"text-align: right;\">     150</td><td style=\"text-align: right;\">0.000117863</td></tr>\n",
       "<tr><td>train_func_0787e_00002</td><td>PENDING </td><td>               </td><td style=\"text-align: right;\">          20</td><td style=\"text-align: right;\">     100</td><td style=\"text-align: right;\">0.000438003</td></tr>\n",
       "<tr><td>train_func_0787e_00003</td><td>PENDING </td><td>               </td><td style=\"text-align: right;\">           8</td><td style=\"text-align: right;\">     100</td><td style=\"text-align: right;\">0.0303044  </td></tr>\n",
       "<tr><td>train_func_0787e_00004</td><td>PENDING </td><td>               </td><td style=\"text-align: right;\">          20</td><td style=\"text-align: right;\">     150</td><td style=\"text-align: right;\">0.000203301</td></tr>\n",
       "<tr><td>train_func_0787e_00005</td><td>PENDING </td><td>               </td><td style=\"text-align: right;\">          20</td><td style=\"text-align: right;\">     150</td><td style=\"text-align: right;\">0.00173267 </td></tr>\n",
       "<tr><td>train_func_0787e_00006</td><td>PENDING </td><td>               </td><td style=\"text-align: right;\">          20</td><td style=\"text-align: right;\">     100</td><td style=\"text-align: right;\">0.000246187</td></tr>\n",
       "<tr><td>train_func_0787e_00007</td><td>PENDING </td><td>               </td><td style=\"text-align: right;\">           8</td><td style=\"text-align: right;\">     100</td><td style=\"text-align: right;\">0.0772869  </td></tr>\n",
       "<tr><td>train_func_0787e_00008</td><td>PENDING </td><td>               </td><td style=\"text-align: right;\">           8</td><td style=\"text-align: right;\">      50</td><td style=\"text-align: right;\">0.000393541</td></tr>\n",
       "<tr><td>train_func_0787e_00009</td><td>PENDING </td><td>               </td><td style=\"text-align: right;\">           8</td><td style=\"text-align: right;\">     100</td><td style=\"text-align: right;\">0.00309822 </td></tr>\n",
       "</tbody>\n",
       "</table><br><br>"
      ],
      "text/plain": [
       "<IPython.core.display.HTML object>"
      ]
     },
     "metadata": {},
     "output_type": "display_data"
    },
    {
     "data": {
      "text/html": [
       "== Status ==<br>Current time: 2022-07-09 12:47:00 (running for 00:00:45.14)<br>Memory usage on this node: 14.2/15.6 GiB: ***LOW MEMORY*** less than 10% of the memory on this node is available for use. This can cause unexpected crashes. Consider reducing the memory used by your application or reducing the Ray object store size by setting `object_store_memory` when calling `ray.init`.<br>Using AsyncHyperBand: num_stopped=0\n",
       "Bracket: Iter 9.000: None | Iter 3.000: None | Iter 1.000: None<br>Resources requested: 8.0/8 CPUs, 0/0 GPUs, 0.0/2.79 GiB heap, 0.0/1.4 GiB objects<br>Result logdir: C:\\Users\\trist\\ray_results\\train_func_2022-07-09_12-46-15<br>Number of trials: 10/10 (8 PENDING, 2 RUNNING)<br><table>\n",
       "<thead>\n",
       "<tr><th>Trial name            </th><th>status  </th><th>loc            </th><th style=\"text-align: right;\">  batch_size</th><th style=\"text-align: right;\">  epochs</th><th style=\"text-align: right;\">         lr</th></tr>\n",
       "</thead>\n",
       "<tbody>\n",
       "<tr><td>train_func_0787e_00000</td><td>RUNNING </td><td>127.0.0.1:14900</td><td style=\"text-align: right;\">           8</td><td style=\"text-align: right;\">      50</td><td style=\"text-align: right;\">0.00755458 </td></tr>\n",
       "<tr><td>train_func_0787e_00001</td><td>RUNNING </td><td>127.0.0.1:22024</td><td style=\"text-align: right;\">          20</td><td style=\"text-align: right;\">     150</td><td style=\"text-align: right;\">0.000117863</td></tr>\n",
       "<tr><td>train_func_0787e_00002</td><td>PENDING </td><td>               </td><td style=\"text-align: right;\">          20</td><td style=\"text-align: right;\">     100</td><td style=\"text-align: right;\">0.000438003</td></tr>\n",
       "<tr><td>train_func_0787e_00003</td><td>PENDING </td><td>               </td><td style=\"text-align: right;\">           8</td><td style=\"text-align: right;\">     100</td><td style=\"text-align: right;\">0.0303044  </td></tr>\n",
       "<tr><td>train_func_0787e_00004</td><td>PENDING </td><td>               </td><td style=\"text-align: right;\">          20</td><td style=\"text-align: right;\">     150</td><td style=\"text-align: right;\">0.000203301</td></tr>\n",
       "<tr><td>train_func_0787e_00005</td><td>PENDING </td><td>               </td><td style=\"text-align: right;\">          20</td><td style=\"text-align: right;\">     150</td><td style=\"text-align: right;\">0.00173267 </td></tr>\n",
       "<tr><td>train_func_0787e_00006</td><td>PENDING </td><td>               </td><td style=\"text-align: right;\">          20</td><td style=\"text-align: right;\">     100</td><td style=\"text-align: right;\">0.000246187</td></tr>\n",
       "<tr><td>train_func_0787e_00007</td><td>PENDING </td><td>               </td><td style=\"text-align: right;\">           8</td><td style=\"text-align: right;\">     100</td><td style=\"text-align: right;\">0.0772869  </td></tr>\n",
       "<tr><td>train_func_0787e_00008</td><td>PENDING </td><td>               </td><td style=\"text-align: right;\">           8</td><td style=\"text-align: right;\">      50</td><td style=\"text-align: right;\">0.000393541</td></tr>\n",
       "<tr><td>train_func_0787e_00009</td><td>PENDING </td><td>               </td><td style=\"text-align: right;\">           8</td><td style=\"text-align: right;\">     100</td><td style=\"text-align: right;\">0.00309822 </td></tr>\n",
       "</tbody>\n",
       "</table><br><br>"
      ],
      "text/plain": [
       "<IPython.core.display.HTML object>"
      ]
     },
     "metadata": {},
     "output_type": "display_data"
    },
    {
     "data": {
      "text/html": [
       "== Status ==<br>Current time: 2022-07-09 12:47:05 (running for 00:00:50.20)<br>Memory usage on this node: 15.5/15.6 GiB: ***LOW MEMORY*** less than 10% of the memory on this node is available for use. This can cause unexpected crashes. Consider reducing the memory used by your application or reducing the Ray object store size by setting `object_store_memory` when calling `ray.init`.<br>Using AsyncHyperBand: num_stopped=0\n",
       "Bracket: Iter 9.000: None | Iter 3.000: None | Iter 1.000: None<br>Resources requested: 8.0/8 CPUs, 0/0 GPUs, 0.0/2.79 GiB heap, 0.0/1.4 GiB objects<br>Result logdir: C:\\Users\\trist\\ray_results\\train_func_2022-07-09_12-46-15<br>Number of trials: 10/10 (8 PENDING, 2 RUNNING)<br><table>\n",
       "<thead>\n",
       "<tr><th>Trial name            </th><th>status  </th><th>loc            </th><th style=\"text-align: right;\">  batch_size</th><th style=\"text-align: right;\">  epochs</th><th style=\"text-align: right;\">         lr</th></tr>\n",
       "</thead>\n",
       "<tbody>\n",
       "<tr><td>train_func_0787e_00000</td><td>RUNNING </td><td>127.0.0.1:14900</td><td style=\"text-align: right;\">           8</td><td style=\"text-align: right;\">      50</td><td style=\"text-align: right;\">0.00755458 </td></tr>\n",
       "<tr><td>train_func_0787e_00001</td><td>RUNNING </td><td>127.0.0.1:22024</td><td style=\"text-align: right;\">          20</td><td style=\"text-align: right;\">     150</td><td style=\"text-align: right;\">0.000117863</td></tr>\n",
       "<tr><td>train_func_0787e_00002</td><td>PENDING </td><td>               </td><td style=\"text-align: right;\">          20</td><td style=\"text-align: right;\">     100</td><td style=\"text-align: right;\">0.000438003</td></tr>\n",
       "<tr><td>train_func_0787e_00003</td><td>PENDING </td><td>               </td><td style=\"text-align: right;\">           8</td><td style=\"text-align: right;\">     100</td><td style=\"text-align: right;\">0.0303044  </td></tr>\n",
       "<tr><td>train_func_0787e_00004</td><td>PENDING </td><td>               </td><td style=\"text-align: right;\">          20</td><td style=\"text-align: right;\">     150</td><td style=\"text-align: right;\">0.000203301</td></tr>\n",
       "<tr><td>train_func_0787e_00005</td><td>PENDING </td><td>               </td><td style=\"text-align: right;\">          20</td><td style=\"text-align: right;\">     150</td><td style=\"text-align: right;\">0.00173267 </td></tr>\n",
       "<tr><td>train_func_0787e_00006</td><td>PENDING </td><td>               </td><td style=\"text-align: right;\">          20</td><td style=\"text-align: right;\">     100</td><td style=\"text-align: right;\">0.000246187</td></tr>\n",
       "<tr><td>train_func_0787e_00007</td><td>PENDING </td><td>               </td><td style=\"text-align: right;\">           8</td><td style=\"text-align: right;\">     100</td><td style=\"text-align: right;\">0.0772869  </td></tr>\n",
       "<tr><td>train_func_0787e_00008</td><td>PENDING </td><td>               </td><td style=\"text-align: right;\">           8</td><td style=\"text-align: right;\">      50</td><td style=\"text-align: right;\">0.000393541</td></tr>\n",
       "<tr><td>train_func_0787e_00009</td><td>PENDING </td><td>               </td><td style=\"text-align: right;\">           8</td><td style=\"text-align: right;\">     100</td><td style=\"text-align: right;\">0.00309822 </td></tr>\n",
       "</tbody>\n",
       "</table><br><br>"
      ],
      "text/plain": [
       "<IPython.core.display.HTML object>"
      ]
     },
     "metadata": {},
     "output_type": "display_data"
    },
    {
     "data": {
      "text/html": [
       "== Status ==<br>Current time: 2022-07-09 12:47:10 (running for 00:00:55.32)<br>Memory usage on this node: 15.6/15.6 GiB: ***LOW MEMORY*** less than 10% of the memory on this node is available for use. This can cause unexpected crashes. Consider reducing the memory used by your application or reducing the Ray object store size by setting `object_store_memory` when calling `ray.init`.<br>Using AsyncHyperBand: num_stopped=0\n",
       "Bracket: Iter 9.000: None | Iter 3.000: None | Iter 1.000: None<br>Resources requested: 8.0/8 CPUs, 0/0 GPUs, 0.0/2.79 GiB heap, 0.0/1.4 GiB objects<br>Result logdir: C:\\Users\\trist\\ray_results\\train_func_2022-07-09_12-46-15<br>Number of trials: 10/10 (8 PENDING, 2 RUNNING)<br><table>\n",
       "<thead>\n",
       "<tr><th>Trial name            </th><th>status  </th><th>loc            </th><th style=\"text-align: right;\">  batch_size</th><th style=\"text-align: right;\">  epochs</th><th style=\"text-align: right;\">         lr</th></tr>\n",
       "</thead>\n",
       "<tbody>\n",
       "<tr><td>train_func_0787e_00000</td><td>RUNNING </td><td>127.0.0.1:14900</td><td style=\"text-align: right;\">           8</td><td style=\"text-align: right;\">      50</td><td style=\"text-align: right;\">0.00755458 </td></tr>\n",
       "<tr><td>train_func_0787e_00001</td><td>RUNNING </td><td>127.0.0.1:22024</td><td style=\"text-align: right;\">          20</td><td style=\"text-align: right;\">     150</td><td style=\"text-align: right;\">0.000117863</td></tr>\n",
       "<tr><td>train_func_0787e_00002</td><td>PENDING </td><td>               </td><td style=\"text-align: right;\">          20</td><td style=\"text-align: right;\">     100</td><td style=\"text-align: right;\">0.000438003</td></tr>\n",
       "<tr><td>train_func_0787e_00003</td><td>PENDING </td><td>               </td><td style=\"text-align: right;\">           8</td><td style=\"text-align: right;\">     100</td><td style=\"text-align: right;\">0.0303044  </td></tr>\n",
       "<tr><td>train_func_0787e_00004</td><td>PENDING </td><td>               </td><td style=\"text-align: right;\">          20</td><td style=\"text-align: right;\">     150</td><td style=\"text-align: right;\">0.000203301</td></tr>\n",
       "<tr><td>train_func_0787e_00005</td><td>PENDING </td><td>               </td><td style=\"text-align: right;\">          20</td><td style=\"text-align: right;\">     150</td><td style=\"text-align: right;\">0.00173267 </td></tr>\n",
       "<tr><td>train_func_0787e_00006</td><td>PENDING </td><td>               </td><td style=\"text-align: right;\">          20</td><td style=\"text-align: right;\">     100</td><td style=\"text-align: right;\">0.000246187</td></tr>\n",
       "<tr><td>train_func_0787e_00007</td><td>PENDING </td><td>               </td><td style=\"text-align: right;\">           8</td><td style=\"text-align: right;\">     100</td><td style=\"text-align: right;\">0.0772869  </td></tr>\n",
       "<tr><td>train_func_0787e_00008</td><td>PENDING </td><td>               </td><td style=\"text-align: right;\">           8</td><td style=\"text-align: right;\">      50</td><td style=\"text-align: right;\">0.000393541</td></tr>\n",
       "<tr><td>train_func_0787e_00009</td><td>PENDING </td><td>               </td><td style=\"text-align: right;\">           8</td><td style=\"text-align: right;\">     100</td><td style=\"text-align: right;\">0.00309822 </td></tr>\n",
       "</tbody>\n",
       "</table><br><br>"
      ],
      "text/plain": [
       "<IPython.core.display.HTML object>"
      ]
     },
     "metadata": {},
     "output_type": "display_data"
    },
    {
     "data": {
      "text/html": [
       "== Status ==<br>Current time: 2022-07-09 12:47:15 (running for 00:01:00.38)<br>Memory usage on this node: 15.4/15.6 GiB: ***LOW MEMORY*** less than 10% of the memory on this node is available for use. This can cause unexpected crashes. Consider reducing the memory used by your application or reducing the Ray object store size by setting `object_store_memory` when calling `ray.init`.<br>Using AsyncHyperBand: num_stopped=0\n",
       "Bracket: Iter 9.000: None | Iter 3.000: None | Iter 1.000: None<br>Resources requested: 8.0/8 CPUs, 0/0 GPUs, 0.0/2.79 GiB heap, 0.0/1.4 GiB objects<br>Result logdir: C:\\Users\\trist\\ray_results\\train_func_2022-07-09_12-46-15<br>Number of trials: 10/10 (8 PENDING, 2 RUNNING)<br><table>\n",
       "<thead>\n",
       "<tr><th>Trial name            </th><th>status  </th><th>loc            </th><th style=\"text-align: right;\">  batch_size</th><th style=\"text-align: right;\">  epochs</th><th style=\"text-align: right;\">         lr</th></tr>\n",
       "</thead>\n",
       "<tbody>\n",
       "<tr><td>train_func_0787e_00000</td><td>RUNNING </td><td>127.0.0.1:14900</td><td style=\"text-align: right;\">           8</td><td style=\"text-align: right;\">      50</td><td style=\"text-align: right;\">0.00755458 </td></tr>\n",
       "<tr><td>train_func_0787e_00001</td><td>RUNNING </td><td>127.0.0.1:22024</td><td style=\"text-align: right;\">          20</td><td style=\"text-align: right;\">     150</td><td style=\"text-align: right;\">0.000117863</td></tr>\n",
       "<tr><td>train_func_0787e_00002</td><td>PENDING </td><td>               </td><td style=\"text-align: right;\">          20</td><td style=\"text-align: right;\">     100</td><td style=\"text-align: right;\">0.000438003</td></tr>\n",
       "<tr><td>train_func_0787e_00003</td><td>PENDING </td><td>               </td><td style=\"text-align: right;\">           8</td><td style=\"text-align: right;\">     100</td><td style=\"text-align: right;\">0.0303044  </td></tr>\n",
       "<tr><td>train_func_0787e_00004</td><td>PENDING </td><td>               </td><td style=\"text-align: right;\">          20</td><td style=\"text-align: right;\">     150</td><td style=\"text-align: right;\">0.000203301</td></tr>\n",
       "<tr><td>train_func_0787e_00005</td><td>PENDING </td><td>               </td><td style=\"text-align: right;\">          20</td><td style=\"text-align: right;\">     150</td><td style=\"text-align: right;\">0.00173267 </td></tr>\n",
       "<tr><td>train_func_0787e_00006</td><td>PENDING </td><td>               </td><td style=\"text-align: right;\">          20</td><td style=\"text-align: right;\">     100</td><td style=\"text-align: right;\">0.000246187</td></tr>\n",
       "<tr><td>train_func_0787e_00007</td><td>PENDING </td><td>               </td><td style=\"text-align: right;\">           8</td><td style=\"text-align: right;\">     100</td><td style=\"text-align: right;\">0.0772869  </td></tr>\n",
       "<tr><td>train_func_0787e_00008</td><td>PENDING </td><td>               </td><td style=\"text-align: right;\">           8</td><td style=\"text-align: right;\">      50</td><td style=\"text-align: right;\">0.000393541</td></tr>\n",
       "<tr><td>train_func_0787e_00009</td><td>PENDING </td><td>               </td><td style=\"text-align: right;\">           8</td><td style=\"text-align: right;\">     100</td><td style=\"text-align: right;\">0.00309822 </td></tr>\n",
       "</tbody>\n",
       "</table><br><br>"
      ],
      "text/plain": [
       "<IPython.core.display.HTML object>"
      ]
     },
     "metadata": {},
     "output_type": "display_data"
    },
    {
     "name": "stderr",
     "output_type": "stream",
     "text": [
      "\u001b[2m\u001b[36m(train_func pid=22024)\u001b[0m 2022-07-09 12:47:16,693\tERROR function_runner.py:281 -- Runner Thread raised error.\n",
      "\u001b[2m\u001b[36m(train_func pid=22024)\u001b[0m Traceback (most recent call last):\n",
      "\u001b[2m\u001b[36m(train_func pid=22024)\u001b[0m   File \"C:\\Users\\trist\\cs_projects\\Cancer_Project\\Cancer_ML\\env\\lib\\site-packages\\ray\\tune\\function_runner.py\", line 272, in run\n",
      "\u001b[2m\u001b[36m(train_func pid=22024)\u001b[0m     self._entrypoint()\n",
      "\u001b[2m\u001b[36m(train_func pid=22024)\u001b[0m   File \"C:\\Users\\trist\\cs_projects\\Cancer_Project\\Cancer_ML\\env\\lib\\site-packages\\ray\\tune\\function_runner.py\", line 348, in entrypoint\n",
      "\u001b[2m\u001b[36m(train_func pid=22024)\u001b[0m     return self._trainable_func(\n",
      "\u001b[2m\u001b[36m(train_func pid=22024)\u001b[0m   File \"C:\\Users\\trist\\cs_projects\\Cancer_Project\\Cancer_ML\\env\\lib\\site-packages\\ray\\util\\tracing\\tracing_helper.py\", line 462, in _resume_span\n",
      "\u001b[2m\u001b[36m(train_func pid=22024)\u001b[0m     return method(self, *_args, **_kwargs)\n",
      "\u001b[2m\u001b[36m(train_func pid=22024)\u001b[0m   File \"C:\\Users\\trist\\cs_projects\\Cancer_Project\\Cancer_ML\\env\\lib\\site-packages\\ray\\tune\\function_runner.py\", line 640, in _trainable_func\n",
      "\u001b[2m\u001b[36m(train_func pid=22024)\u001b[0m     output = fn()\n",
      "\u001b[2m\u001b[36m(train_func pid=22024)\u001b[0m   File \"C:\\Users\\trist\\cs_projects\\Cancer_Project\\Cancer_ML\\env\\lib\\site-packages\\ray\\tune\\utils\\trainable.py\", line 390, in _inner\n",
      "\u001b[2m\u001b[36m(train_func pid=22024)\u001b[0m     inner(config, checkpoint_dir=None)\n",
      "\u001b[2m\u001b[36m(train_func pid=22024)\u001b[0m   File \"C:\\Users\\trist\\cs_projects\\Cancer_Project\\Cancer_ML\\env\\lib\\site-packages\\ray\\tune\\utils\\trainable.py\", line 381, in inner\n",
      "\u001b[2m\u001b[36m(train_func pid=22024)\u001b[0m     trainable(config, **fn_kwargs)\n",
      "\u001b[2m\u001b[36m(train_func pid=22024)\u001b[0m   File \"C:\\Users\\trist\\AppData\\Local\\Temp\\ipykernel_5568\\195199421.py\", line 71, in train_func\n",
      "\u001b[2m\u001b[36m(train_func pid=22024)\u001b[0m   File \"C:\\Users\\trist\\cs_projects\\Cancer_Project\\Cancer_ML\\env\\lib\\site-packages\\torch\\nn\\modules\\module.py\", line 1051, in _call_impl\n",
      "\u001b[2m\u001b[36m(train_func pid=22024)\u001b[0m     return forward_call(*input, **kwargs)\n",
      "\u001b[2m\u001b[36m(train_func pid=22024)\u001b[0m   File \"C:\\Users\\trist\\AppData\\Local\\Temp\\ipykernel_5568\\195199421.py\", line 33, in forward\n",
      "\u001b[2m\u001b[36m(train_func pid=22024)\u001b[0m   File \"C:\\Users\\trist\\cs_projects\\Cancer_Project\\Cancer_ML\\env\\lib\\site-packages\\torch\\nn\\modules\\module.py\", line 1051, in _call_impl\n",
      "\u001b[2m\u001b[36m(train_func pid=22024)\u001b[0m     return forward_call(*input, **kwargs)\n",
      "\u001b[2m\u001b[36m(train_func pid=22024)\u001b[0m   File \"C:\\Users\\trist\\cs_projects\\Cancer_Project\\Cancer_ML\\env\\lib\\site-packages\\torchvision\\models\\video\\resnet.py\", line 229, in forward\n",
      "\u001b[2m\u001b[36m(train_func pid=22024)\u001b[0m     x = self.layer1(x)\n",
      "\u001b[2m\u001b[36m(train_func pid=22024)\u001b[0m   File \"C:\\Users\\trist\\cs_projects\\Cancer_Project\\Cancer_ML\\env\\lib\\site-packages\\torch\\nn\\modules\\module.py\", line 1051, in _call_impl\n",
      "\u001b[2m\u001b[36m(train_func pid=22024)\u001b[0m     return forward_call(*input, **kwargs)\n",
      "\u001b[2m\u001b[36m(train_func pid=22024)\u001b[0m   File \"C:\\Users\\trist\\cs_projects\\Cancer_Project\\Cancer_ML\\env\\lib\\site-packages\\torch\\nn\\modules\\container.py\", line 139, in forward\n",
      "\u001b[2m\u001b[36m(train_func pid=22024)\u001b[0m     input = module(input)\n",
      "\u001b[2m\u001b[36m(train_func pid=22024)\u001b[0m   File \"C:\\Users\\trist\\cs_projects\\Cancer_Project\\Cancer_ML\\env\\lib\\site-packages\\torch\\nn\\modules\\module.py\", line 1051, in _call_impl\n",
      "\u001b[2m\u001b[36m(train_func pid=22024)\u001b[0m     return forward_call(*input, **kwargs)\n",
      "\u001b[2m\u001b[36m(train_func pid=22024)\u001b[0m   File \"C:\\Users\\trist\\cs_projects\\Cancer_Project\\Cancer_ML\\env\\lib\\site-packages\\torchvision\\models\\video\\resnet.py\", line 105, in forward\n",
      "\u001b[2m\u001b[36m(train_func pid=22024)\u001b[0m     out = self.conv1(x)\n",
      "\u001b[2m\u001b[36m(train_func pid=22024)\u001b[0m   File \"C:\\Users\\trist\\cs_projects\\Cancer_Project\\Cancer_ML\\env\\lib\\site-packages\\torch\\nn\\modules\\module.py\", line 1051, in _call_impl\n",
      "\u001b[2m\u001b[36m(train_func pid=22024)\u001b[0m     return forward_call(*input, **kwargs)\n",
      "\u001b[2m\u001b[36m(train_func pid=22024)\u001b[0m   File \"C:\\Users\\trist\\cs_projects\\Cancer_Project\\Cancer_ML\\env\\lib\\site-packages\\torch\\nn\\modules\\container.py\", line 139, in forward\n",
      "\u001b[2m\u001b[36m(train_func pid=22024)\u001b[0m     input = module(input)\n",
      "\u001b[2m\u001b[36m(train_func pid=22024)\u001b[0m   File \"C:\\Users\\trist\\cs_projects\\Cancer_Project\\Cancer_ML\\env\\lib\\site-packages\\torch\\nn\\modules\\module.py\", line 1051, in _call_impl\n",
      "\u001b[2m\u001b[36m(train_func pid=22024)\u001b[0m     return forward_call(*input, **kwargs)\n",
      "\u001b[2m\u001b[36m(train_func pid=22024)\u001b[0m   File \"C:\\Users\\trist\\cs_projects\\Cancer_Project\\Cancer_ML\\env\\lib\\site-packages\\torch\\nn\\modules\\conv.py\", line 587, in forward\n",
      "\u001b[2m\u001b[36m(train_func pid=22024)\u001b[0m     return self._conv_forward(input, self.weight, self.bias)\n",
      "\u001b[2m\u001b[36m(train_func pid=22024)\u001b[0m   File \"C:\\Users\\trist\\cs_projects\\Cancer_Project\\Cancer_ML\\env\\lib\\site-packages\\torch\\nn\\modules\\conv.py\", line 582, in _conv_forward\n",
      "\u001b[2m\u001b[36m(train_func pid=22024)\u001b[0m     return F.conv3d(\n",
      "\u001b[2m\u001b[36m(train_func pid=22024)\u001b[0m RuntimeError: [enforce fail at ..\\c10\\core\\CPUAllocator.cpp:79] data. DefaultCPUAllocator: not enough memory: you tried to allocate 2516582400 bytes.\n",
      "\u001b[2m\u001b[36m(train_func pid=22024)\u001b[0m Exception in thread Thread-3:\n",
      "\u001b[2m\u001b[36m(train_func pid=22024)\u001b[0m Traceback (most recent call last):\n",
      "\u001b[2m\u001b[36m(train_func pid=22024)\u001b[0m   File \"C:\\Users\\trist\\cs_projects\\Cancer_Project\\Cancer_ML\\env\\lib\\threading.py\", line 973, in _bootstrap_inner\n",
      "\u001b[2m\u001b[36m(train_func pid=22024)\u001b[0m     self.run()\n",
      "\u001b[2m\u001b[36m(train_func pid=22024)\u001b[0m   File \"C:\\Users\\trist\\cs_projects\\Cancer_Project\\Cancer_ML\\env\\lib\\site-packages\\ray\\tune\\function_runner.py\", line 298, in run\n",
      "\u001b[2m\u001b[36m(train_func pid=22024)\u001b[0m     raise e\n",
      "\u001b[2m\u001b[36m(train_func pid=22024)\u001b[0m   File \"C:\\Users\\trist\\cs_projects\\Cancer_Project\\Cancer_ML\\env\\lib\\site-packages\\ray\\tune\\function_runner.py\", line 272, in run\n",
      "\u001b[2m\u001b[36m(train_func pid=22024)\u001b[0m     self._entrypoint()\n",
      "\u001b[2m\u001b[36m(train_func pid=22024)\u001b[0m   File \"C:\\Users\\trist\\cs_projects\\Cancer_Project\\Cancer_ML\\env\\lib\\site-packages\\ray\\tune\\function_runner.py\", line 348, in entrypoint\n",
      "\u001b[2m\u001b[36m(train_func pid=22024)\u001b[0m     return self._trainable_func(\n",
      "\u001b[2m\u001b[36m(train_func pid=22024)\u001b[0m   File \"C:\\Users\\trist\\cs_projects\\Cancer_Project\\Cancer_ML\\env\\lib\\site-packages\\ray\\util\\tracing\\tracing_helper.py\", line 462, in _resume_span\n",
      "\u001b[2m\u001b[36m(train_func pid=22024)\u001b[0m     return method(self, *_args, **_kwargs)\n",
      "\u001b[2m\u001b[36m(train_func pid=22024)\u001b[0m   File \"C:\\Users\\trist\\cs_projects\\Cancer_Project\\Cancer_ML\\env\\lib\\site-packages\\ray\\tune\\function_runner.py\", line 640, in _trainable_func\n",
      "\u001b[2m\u001b[36m(train_func pid=22024)\u001b[0m     output = fn()\n",
      "\u001b[2m\u001b[36m(train_func pid=22024)\u001b[0m   File \"C:\\Users\\trist\\cs_projects\\Cancer_Project\\Cancer_ML\\env\\lib\\site-packages\\ray\\tune\\utils\\trainable.py\", line 390, in _inner\n",
      "\u001b[2m\u001b[36m(train_func pid=22024)\u001b[0m     inner(config, checkpoint_dir=None)\n",
      "\u001b[2m\u001b[36m(train_func pid=22024)\u001b[0m   File \"C:\\Users\\trist\\cs_projects\\Cancer_Project\\Cancer_ML\\env\\lib\\site-packages\\ray\\tune\\utils\\trainable.py\", line 381, in inner\n",
      "\u001b[2m\u001b[36m(train_func pid=22024)\u001b[0m     trainable(config, **fn_kwargs)\n",
      "\u001b[2m\u001b[36m(train_func pid=22024)\u001b[0m   File \"C:\\Users\\trist\\AppData\\Local\\Temp\\ipykernel_5568\\195199421.py\", line 71, in train_func\n",
      "\u001b[2m\u001b[36m(train_func pid=22024)\u001b[0m   File \"C:\\Users\\trist\\cs_projects\\Cancer_Project\\Cancer_ML\\env\\lib\\site-packages\\torch\\nn\\modules\\module.py\", line 1051, in _call_impl\n",
      "\u001b[2m\u001b[36m(train_func pid=22024)\u001b[0m     return forward_call(*input, **kwargs)\n",
      "\u001b[2m\u001b[36m(train_func pid=22024)\u001b[0m   File \"C:\\Users\\trist\\AppData\\Local\\Temp\\ipykernel_5568\\195199421.py\", line 33, in forward\n",
      "\u001b[2m\u001b[36m(train_func pid=22024)\u001b[0m   File \"C:\\Users\\trist\\cs_projects\\Cancer_Project\\Cancer_ML\\env\\lib\\site-packages\\torch\\nn\\modules\\module.py\", line 1051, in _call_impl\n",
      "\u001b[2m\u001b[36m(train_func pid=22024)\u001b[0m     return forward_call(*input, **kwargs)\n",
      "\u001b[2m\u001b[36m(train_func pid=22024)\u001b[0m   File \"C:\\Users\\trist\\cs_projects\\Cancer_Project\\Cancer_ML\\env\\lib\\site-packages\\torchvision\\models\\video\\resnet.py\", line 229, in forward\n",
      "\u001b[2m\u001b[36m(train_func pid=22024)\u001b[0m     x = self.layer1(x)\n",
      "\u001b[2m\u001b[36m(train_func pid=22024)\u001b[0m   File \"C:\\Users\\trist\\cs_projects\\Cancer_Project\\Cancer_ML\\env\\lib\\site-packages\\torch\\nn\\modules\\module.py\", line 1051, in _call_impl\n",
      "\u001b[2m\u001b[36m(train_func pid=22024)\u001b[0m     return forward_call(*input, **kwargs)\n",
      "\u001b[2m\u001b[36m(train_func pid=22024)\u001b[0m   File \"C:\\Users\\trist\\cs_projects\\Cancer_Project\\Cancer_ML\\env\\lib\\site-packages\\torch\\nn\\modules\\container.py\", line 139, in forward\n",
      "\u001b[2m\u001b[36m(train_func pid=22024)\u001b[0m     input = module(input)\n",
      "\u001b[2m\u001b[36m(train_func pid=22024)\u001b[0m   File \"C:\\Users\\trist\\cs_projects\\Cancer_Project\\Cancer_ML\\env\\lib\\site-packages\\torch\\nn\\modules\\module.py\", line 1051, in _call_impl\n",
      "\u001b[2m\u001b[36m(train_func pid=22024)\u001b[0m     return forward_call(*input, **kwargs)\n",
      "\u001b[2m\u001b[36m(train_func pid=22024)\u001b[0m   File \"C:\\Users\\trist\\cs_projects\\Cancer_Project\\Cancer_ML\\env\\lib\\site-packages\\torchvision\\models\\video\\resnet.py\", line 105, in forward\n",
      "\u001b[2m\u001b[36m(train_func pid=22024)\u001b[0m     out = self.conv1(x)\n",
      "\u001b[2m\u001b[36m(train_func pid=22024)\u001b[0m   File \"C:\\Users\\trist\\cs_projects\\Cancer_Project\\Cancer_ML\\env\\lib\\site-packages\\torch\\nn\\modules\\module.py\", line 1051, in _call_impl\n",
      "\u001b[2m\u001b[36m(train_func pid=22024)\u001b[0m     return forward_call(*input, **kwargs)\n",
      "\u001b[2m\u001b[36m(train_func pid=22024)\u001b[0m   File \"C:\\Users\\trist\\cs_projects\\Cancer_Project\\Cancer_ML\\env\\lib\\site-packages\\torch\\nn\\modules\\container.py\", line 139, in forward\n",
      "\u001b[2m\u001b[36m(train_func pid=22024)\u001b[0m     input = module(input)\n",
      "\u001b[2m\u001b[36m(train_func pid=22024)\u001b[0m   File \"C:\\Users\\trist\\cs_projects\\Cancer_Project\\Cancer_ML\\env\\lib\\site-packages\\torch\\nn\\modules\\module.py\", line 1051, in _call_impl\n",
      "\u001b[2m\u001b[36m(train_func pid=22024)\u001b[0m     return forward_call(*input, **kwargs)\n",
      "\u001b[2m\u001b[36m(train_func pid=22024)\u001b[0m   File \"C:\\Users\\trist\\cs_projects\\Cancer_Project\\Cancer_ML\\env\\lib\\site-packages\\torch\\nn\\modules\\conv.py\", line 587, in forward\n",
      "\u001b[2m\u001b[36m(train_func pid=22024)\u001b[0m     return self._conv_forward(input, self.weight, self.bias)\n",
      "\u001b[2m\u001b[36m(train_func pid=22024)\u001b[0m   File \"C:\\Users\\trist\\cs_projects\\Cancer_Project\\Cancer_ML\\env\\lib\\site-packages\\torch\\nn\\modules\\conv.py\", line 582, in _conv_forward\n",
      "\u001b[2m\u001b[36m(train_func pid=22024)\u001b[0m     return F.conv3d(\n",
      "\u001b[2m\u001b[36m(train_func pid=22024)\u001b[0m RuntimeError: [enforce fail at ..\\c10\\core\\CPUAllocator.cpp:79] data. DefaultCPUAllocator: not enough memory: you tried to allocate 2516582400 bytes.\n"
     ]
    },
    {
     "name": "stderr",
     "output_type": "stream",
     "text": [
      "2022-07-09 12:47:19,610\tERROR trial_runner.py:876 -- Trial train_func_0787e_00001: Error processing event.\n",
      "NoneType: None\n"
     ]
    },
    {
     "name": "stdout",
     "output_type": "stream",
     "text": [
      "Result for train_func_0787e_00001:\n",
      "  date: 2022-07-09_12-46-24\n",
      "  experiment_id: 0cc7d376c3af484c883fd0fcf8e64488\n",
      "  hostname: Tristens-PC\n",
      "  node_ip: 127.0.0.1\n",
      "  pid: 22024\n",
      "  timestamp: 1657388784\n",
      "  trial_id: 0787e_00001\n",
      "  \n"
     ]
    },
    {
     "name": "stderr",
     "output_type": "stream",
     "text": [
      "2022-07-09 12:47:20,072\tINFO trial_runner.py:803 -- starting train_func_0787e_00002\n",
      "\u001b[2m\u001b[36m(pid=)\u001b[0m 2022-07-09 12:47:20,042\tINFO context.py:67 -- Exec'ing worker with command: \"C:\\Users\\trist\\cs_projects\\Cancer_Project\\Cancer_ML\\env\\python.exe\" C:\\Users\\trist\\cs_projects\\Cancer_Project\\Cancer_ML\\env\\lib\\site-packages\\ray\\workers/default_worker.py --node-ip-address=127.0.0.1 --node-manager-port=63550 --object-store-name=tcp://127.0.0.1:64744 --raylet-name=tcp://127.0.0.1:64150 --redis-address=None --storage=None --temp-dir=C:\\Users\\trist\\AppData\\Local\\Temp\\ray --metrics-agent-port=63803 --logging-rotate-bytes=536870912 --logging-rotate-backup-count=5 --gcs-address=127.0.0.1:63629 --redis-password=5241590000000000 --startup-token=9 --runtime-env-hash=-125176900\n",
      "\u001b[2m\u001b[36m(pid=)\u001b[0m C:\\Users\\trist\\cs_projects\\Cancer_Project\\Cancer_ML\\env\\lib\\site-packages\\requests\\__init__.py:102: RequestsDependencyWarning: urllib3 (1.26.7) or chardet (5.0.0)/charset_normalizer (2.0.6) doesn't match a supported version!\n",
      "\u001b[2m\u001b[36m(pid=)\u001b[0m   warnings.warn(\"urllib3 ({}) or chardet ({})/charset_normalizer ({}) doesn't match a supported \"\n",
      "\u001b[2m\u001b[36m(pid=)\u001b[0m C:\\Users\\trist\\cs_projects\\Cancer_Project\\Cancer_ML\\env\\lib\\site-packages\\requests\\__init__.py:102: RequestsDependencyWarning: urllib3 (1.26.7) or chardet (5.0.0)/charset_normalizer (2.0.6) doesn't match a supported version!\n",
      "\u001b[2m\u001b[36m(pid=)\u001b[0m   warnings.warn(\"urllib3 ({}) or chardet ({})/charset_normalizer ({}) doesn't match a supported \"\n"
     ]
    },
    {
     "data": {
      "text/html": [
       "== Status ==<br>Current time: 2022-07-09 12:47:27 (running for 00:01:11.76)<br>Memory usage on this node: 11.3/15.6 GiB<br>Using AsyncHyperBand: num_stopped=0\n",
       "Bracket: Iter 9.000: None | Iter 3.000: None | Iter 1.000: None<br>Resources requested: 8.0/8 CPUs, 0/0 GPUs, 0.0/2.79 GiB heap, 0.0/1.4 GiB objects<br>Result logdir: C:\\Users\\trist\\ray_results\\train_func_2022-07-09_12-46-15<br>Number of trials: 10/10 (1 ERROR, 7 PENDING, 2 RUNNING)<br><table>\n",
       "<thead>\n",
       "<tr><th>Trial name            </th><th>status  </th><th>loc            </th><th style=\"text-align: right;\">  batch_size</th><th style=\"text-align: right;\">  epochs</th><th style=\"text-align: right;\">         lr</th></tr>\n",
       "</thead>\n",
       "<tbody>\n",
       "<tr><td>train_func_0787e_00000</td><td>RUNNING </td><td>127.0.0.1:14900</td><td style=\"text-align: right;\">           8</td><td style=\"text-align: right;\">      50</td><td style=\"text-align: right;\">0.00755458 </td></tr>\n",
       "<tr><td>train_func_0787e_00002</td><td>RUNNING </td><td>127.0.0.1:2980 </td><td style=\"text-align: right;\">          20</td><td style=\"text-align: right;\">     100</td><td style=\"text-align: right;\">0.000438003</td></tr>\n",
       "<tr><td>train_func_0787e_00003</td><td>PENDING </td><td>               </td><td style=\"text-align: right;\">           8</td><td style=\"text-align: right;\">     100</td><td style=\"text-align: right;\">0.0303044  </td></tr>\n",
       "<tr><td>train_func_0787e_00004</td><td>PENDING </td><td>               </td><td style=\"text-align: right;\">          20</td><td style=\"text-align: right;\">     150</td><td style=\"text-align: right;\">0.000203301</td></tr>\n",
       "<tr><td>train_func_0787e_00005</td><td>PENDING </td><td>               </td><td style=\"text-align: right;\">          20</td><td style=\"text-align: right;\">     150</td><td style=\"text-align: right;\">0.00173267 </td></tr>\n",
       "<tr><td>train_func_0787e_00006</td><td>PENDING </td><td>               </td><td style=\"text-align: right;\">          20</td><td style=\"text-align: right;\">     100</td><td style=\"text-align: right;\">0.000246187</td></tr>\n",
       "<tr><td>train_func_0787e_00007</td><td>PENDING </td><td>               </td><td style=\"text-align: right;\">           8</td><td style=\"text-align: right;\">     100</td><td style=\"text-align: right;\">0.0772869  </td></tr>\n",
       "<tr><td>train_func_0787e_00008</td><td>PENDING </td><td>               </td><td style=\"text-align: right;\">           8</td><td style=\"text-align: right;\">      50</td><td style=\"text-align: right;\">0.000393541</td></tr>\n",
       "<tr><td>train_func_0787e_00009</td><td>PENDING </td><td>               </td><td style=\"text-align: right;\">           8</td><td style=\"text-align: right;\">     100</td><td style=\"text-align: right;\">0.00309822 </td></tr>\n",
       "<tr><td>train_func_0787e_00001</td><td>ERROR   </td><td>127.0.0.1:22024</td><td style=\"text-align: right;\">          20</td><td style=\"text-align: right;\">     150</td><td style=\"text-align: right;\">0.000117863</td></tr>\n",
       "</tbody>\n",
       "</table><br>Number of errored trials: 1<br><table>\n",
       "<thead>\n",
       "<tr><th>Trial name            </th><th style=\"text-align: right;\">  # failures</th><th>error file                                                                                                                                             </th></tr>\n",
       "</thead>\n",
       "<tbody>\n",
       "<tr><td>train_func_0787e_00001</td><td style=\"text-align: right;\">           1</td><td>C:\\Users\\trist\\ray_results\\train_func_2022-07-09_12-46-15\\train_func_0787e_00001_1_batch_size=20,epochs=150,lr=0.00011786_2022-07-09_12-46-19\\error.txt</td></tr>\n",
       "</tbody>\n",
       "</table><br>"
      ],
      "text/plain": [
       "<IPython.core.display.HTML object>"
      ]
     },
     "metadata": {},
     "output_type": "display_data"
    },
    {
     "name": "stdout",
     "output_type": "stream",
     "text": [
      "\u001b[2m\u001b[36m(train_func pid=2980)\u001b[0m <class 'torch.Tensor'>\n"
     ]
    },
    {
     "name": "stderr",
     "output_type": "stream",
     "text": [
      "2022-07-09 12:47:29,101\tWARNING tune.py:650 -- SIGINT received (e.g. via Ctrl+C), ending Ray Tune run. This will try to checkpoint the experiment state one last time. Press CTRL+C one more time (or send SIGINT/SIGKILL/SIGTERM) to skip. \n"
     ]
    },
    {
     "data": {
      "text/html": [
       "== Status ==<br>Current time: 2022-07-09 12:47:32 (running for 00:01:16.84)<br>Memory usage on this node: 12.6/15.6 GiB<br>Using AsyncHyperBand: num_stopped=0\n",
       "Bracket: Iter 9.000: None | Iter 3.000: None | Iter 1.000: None<br>Resources requested: 8.0/8 CPUs, 0/0 GPUs, 0.0/2.79 GiB heap, 0.0/1.4 GiB objects<br>Result logdir: C:\\Users\\trist\\ray_results\\train_func_2022-07-09_12-46-15<br>Number of trials: 10/10 (1 ERROR, 7 PENDING, 2 RUNNING)<br><table>\n",
       "<thead>\n",
       "<tr><th>Trial name            </th><th>status  </th><th>loc            </th><th style=\"text-align: right;\">  batch_size</th><th style=\"text-align: right;\">  epochs</th><th style=\"text-align: right;\">         lr</th></tr>\n",
       "</thead>\n",
       "<tbody>\n",
       "<tr><td>train_func_0787e_00000</td><td>RUNNING </td><td>127.0.0.1:14900</td><td style=\"text-align: right;\">           8</td><td style=\"text-align: right;\">      50</td><td style=\"text-align: right;\">0.00755458 </td></tr>\n",
       "<tr><td>train_func_0787e_00002</td><td>RUNNING </td><td>127.0.0.1:2980 </td><td style=\"text-align: right;\">          20</td><td style=\"text-align: right;\">     100</td><td style=\"text-align: right;\">0.000438003</td></tr>\n",
       "<tr><td>train_func_0787e_00003</td><td>PENDING </td><td>               </td><td style=\"text-align: right;\">           8</td><td style=\"text-align: right;\">     100</td><td style=\"text-align: right;\">0.0303044  </td></tr>\n",
       "<tr><td>train_func_0787e_00004</td><td>PENDING </td><td>               </td><td style=\"text-align: right;\">          20</td><td style=\"text-align: right;\">     150</td><td style=\"text-align: right;\">0.000203301</td></tr>\n",
       "<tr><td>train_func_0787e_00005</td><td>PENDING </td><td>               </td><td style=\"text-align: right;\">          20</td><td style=\"text-align: right;\">     150</td><td style=\"text-align: right;\">0.00173267 </td></tr>\n",
       "<tr><td>train_func_0787e_00006</td><td>PENDING </td><td>               </td><td style=\"text-align: right;\">          20</td><td style=\"text-align: right;\">     100</td><td style=\"text-align: right;\">0.000246187</td></tr>\n",
       "<tr><td>train_func_0787e_00007</td><td>PENDING </td><td>               </td><td style=\"text-align: right;\">           8</td><td style=\"text-align: right;\">     100</td><td style=\"text-align: right;\">0.0772869  </td></tr>\n",
       "<tr><td>train_func_0787e_00008</td><td>PENDING </td><td>               </td><td style=\"text-align: right;\">           8</td><td style=\"text-align: right;\">      50</td><td style=\"text-align: right;\">0.000393541</td></tr>\n",
       "<tr><td>train_func_0787e_00009</td><td>PENDING </td><td>               </td><td style=\"text-align: right;\">           8</td><td style=\"text-align: right;\">     100</td><td style=\"text-align: right;\">0.00309822 </td></tr>\n",
       "<tr><td>train_func_0787e_00001</td><td>ERROR   </td><td>127.0.0.1:22024</td><td style=\"text-align: right;\">          20</td><td style=\"text-align: right;\">     150</td><td style=\"text-align: right;\">0.000117863</td></tr>\n",
       "</tbody>\n",
       "</table><br>Number of errored trials: 1<br><table>\n",
       "<thead>\n",
       "<tr><th>Trial name            </th><th style=\"text-align: right;\">  # failures</th><th>error file                                                                                                                                             </th></tr>\n",
       "</thead>\n",
       "<tbody>\n",
       "<tr><td>train_func_0787e_00001</td><td style=\"text-align: right;\">           1</td><td>C:\\Users\\trist\\ray_results\\train_func_2022-07-09_12-46-15\\train_func_0787e_00001_1_batch_size=20,epochs=150,lr=0.00011786_2022-07-09_12-46-19\\error.txt</td></tr>\n",
       "</tbody>\n",
       "</table><br>"
      ],
      "text/plain": [
       "<IPython.core.display.HTML object>"
      ]
     },
     "metadata": {},
     "output_type": "display_data"
    },
    {
     "data": {
      "text/html": [
       "== Status ==<br>Current time: 2022-07-09 12:47:32 (running for 00:01:16.86)<br>Memory usage on this node: 12.6/15.6 GiB<br>Using AsyncHyperBand: num_stopped=0\n",
       "Bracket: Iter 9.000: None | Iter 3.000: None | Iter 1.000: None<br>Resources requested: 8.0/8 CPUs, 0/0 GPUs, 0.0/2.79 GiB heap, 0.0/1.4 GiB objects<br>Result logdir: C:\\Users\\trist\\ray_results\\train_func_2022-07-09_12-46-15<br>Number of trials: 10/10 (1 ERROR, 7 PENDING, 2 RUNNING)<br><table>\n",
       "<thead>\n",
       "<tr><th>Trial name            </th><th>status  </th><th>loc            </th><th style=\"text-align: right;\">  batch_size</th><th style=\"text-align: right;\">  epochs</th><th style=\"text-align: right;\">         lr</th></tr>\n",
       "</thead>\n",
       "<tbody>\n",
       "<tr><td>train_func_0787e_00000</td><td>RUNNING </td><td>127.0.0.1:14900</td><td style=\"text-align: right;\">           8</td><td style=\"text-align: right;\">      50</td><td style=\"text-align: right;\">0.00755458 </td></tr>\n",
       "<tr><td>train_func_0787e_00002</td><td>RUNNING </td><td>127.0.0.1:2980 </td><td style=\"text-align: right;\">          20</td><td style=\"text-align: right;\">     100</td><td style=\"text-align: right;\">0.000438003</td></tr>\n",
       "<tr><td>train_func_0787e_00003</td><td>PENDING </td><td>               </td><td style=\"text-align: right;\">           8</td><td style=\"text-align: right;\">     100</td><td style=\"text-align: right;\">0.0303044  </td></tr>\n",
       "<tr><td>train_func_0787e_00004</td><td>PENDING </td><td>               </td><td style=\"text-align: right;\">          20</td><td style=\"text-align: right;\">     150</td><td style=\"text-align: right;\">0.000203301</td></tr>\n",
       "<tr><td>train_func_0787e_00005</td><td>PENDING </td><td>               </td><td style=\"text-align: right;\">          20</td><td style=\"text-align: right;\">     150</td><td style=\"text-align: right;\">0.00173267 </td></tr>\n",
       "<tr><td>train_func_0787e_00006</td><td>PENDING </td><td>               </td><td style=\"text-align: right;\">          20</td><td style=\"text-align: right;\">     100</td><td style=\"text-align: right;\">0.000246187</td></tr>\n",
       "<tr><td>train_func_0787e_00007</td><td>PENDING </td><td>               </td><td style=\"text-align: right;\">           8</td><td style=\"text-align: right;\">     100</td><td style=\"text-align: right;\">0.0772869  </td></tr>\n",
       "<tr><td>train_func_0787e_00008</td><td>PENDING </td><td>               </td><td style=\"text-align: right;\">           8</td><td style=\"text-align: right;\">      50</td><td style=\"text-align: right;\">0.000393541</td></tr>\n",
       "<tr><td>train_func_0787e_00009</td><td>PENDING </td><td>               </td><td style=\"text-align: right;\">           8</td><td style=\"text-align: right;\">     100</td><td style=\"text-align: right;\">0.00309822 </td></tr>\n",
       "<tr><td>train_func_0787e_00001</td><td>ERROR   </td><td>127.0.0.1:22024</td><td style=\"text-align: right;\">          20</td><td style=\"text-align: right;\">     150</td><td style=\"text-align: right;\">0.000117863</td></tr>\n",
       "</tbody>\n",
       "</table><br>Number of errored trials: 1<br><table>\n",
       "<thead>\n",
       "<tr><th>Trial name            </th><th style=\"text-align: right;\">  # failures</th><th>error file                                                                                                                                             </th></tr>\n",
       "</thead>\n",
       "<tbody>\n",
       "<tr><td>train_func_0787e_00001</td><td style=\"text-align: right;\">           1</td><td>C:\\Users\\trist\\ray_results\\train_func_2022-07-09_12-46-15\\train_func_0787e_00001_1_batch_size=20,epochs=150,lr=0.00011786_2022-07-09_12-46-19\\error.txt</td></tr>\n",
       "</tbody>\n",
       "</table><br>"
      ],
      "text/plain": [
       "<IPython.core.display.HTML object>"
      ]
     },
     "metadata": {},
     "output_type": "display_data"
    },
    {
     "name": "stderr",
     "output_type": "stream",
     "text": [
      "\u001b[2m\u001b[36m(train_func pid=2980)\u001b[0m 2022-07-09 12:48:14,710\tERROR function_runner.py:281 -- Runner Thread raised error.\n",
      "\u001b[2m\u001b[36m(train_func pid=2980)\u001b[0m Traceback (most recent call last):\n",
      "\u001b[2m\u001b[36m(train_func pid=2980)\u001b[0m   File \"C:\\Users\\trist\\cs_projects\\Cancer_Project\\Cancer_ML\\env\\lib\\site-packages\\ray\\tune\\function_runner.py\", line 272, in run\n",
      "\u001b[2m\u001b[36m(train_func pid=2980)\u001b[0m     self._entrypoint()\n",
      "\u001b[2m\u001b[36m(train_func pid=2980)\u001b[0m   File \"C:\\Users\\trist\\cs_projects\\Cancer_Project\\Cancer_ML\\env\\lib\\site-packages\\ray\\tune\\function_runner.py\", line 348, in entrypoint\n",
      "\u001b[2m\u001b[36m(train_func pid=2980)\u001b[0m     return self._trainable_func(\n",
      "\u001b[2m\u001b[36m(train_func pid=2980)\u001b[0m   File \"C:\\Users\\trist\\cs_projects\\Cancer_Project\\Cancer_ML\\env\\lib\\site-packages\\ray\\util\\tracing\\tracing_helper.py\", line 462, in _resume_span\n",
      "\u001b[2m\u001b[36m(train_func pid=2980)\u001b[0m     return method(self, *_args, **_kwargs)\n",
      "\u001b[2m\u001b[36m(train_func pid=2980)\u001b[0m   File \"C:\\Users\\trist\\cs_projects\\Cancer_Project\\Cancer_ML\\env\\lib\\site-packages\\ray\\tune\\function_runner.py\", line 640, in _trainable_func\n",
      "\u001b[2m\u001b[36m(train_func pid=2980)\u001b[0m     output = fn()\n",
      "\u001b[2m\u001b[36m(train_func pid=2980)\u001b[0m   File \"C:\\Users\\trist\\cs_projects\\Cancer_Project\\Cancer_ML\\env\\lib\\site-packages\\ray\\tune\\utils\\trainable.py\", line 390, in _inner\n",
      "\u001b[2m\u001b[36m(train_func pid=2980)\u001b[0m     inner(config, checkpoint_dir=None)\n",
      "\u001b[2m\u001b[36m(train_func pid=2980)\u001b[0m   File \"C:\\Users\\trist\\cs_projects\\Cancer_Project\\Cancer_ML\\env\\lib\\site-packages\\ray\\tune\\utils\\trainable.py\", line 381, in inner\n",
      "\u001b[2m\u001b[36m(train_func pid=2980)\u001b[0m     trainable(config, **fn_kwargs)\n",
      "\u001b[2m\u001b[36m(train_func pid=2980)\u001b[0m   File \"C:\\Users\\trist\\AppData\\Local\\Temp\\ipykernel_5568\\195199421.py\", line 71, in train_func\n",
      "\u001b[2m\u001b[36m(train_func pid=2980)\u001b[0m   File \"C:\\Users\\trist\\cs_projects\\Cancer_Project\\Cancer_ML\\env\\lib\\site-packages\\torch\\nn\\modules\\module.py\", line 1051, in _call_impl\n",
      "\u001b[2m\u001b[36m(train_func pid=2980)\u001b[0m     return forward_call(*input, **kwargs)\n",
      "\u001b[2m\u001b[36m(train_func pid=2980)\u001b[0m   File \"C:\\Users\\trist\\AppData\\Local\\Temp\\ipykernel_5568\\195199421.py\", line 33, in forward\n",
      "\u001b[2m\u001b[36m(train_func pid=2980)\u001b[0m   File \"C:\\Users\\trist\\cs_projects\\Cancer_Project\\Cancer_ML\\env\\lib\\site-packages\\torch\\nn\\modules\\module.py\", line 1051, in _call_impl\n",
      "\u001b[2m\u001b[36m(train_func pid=2980)\u001b[0m     return forward_call(*input, **kwargs)\n",
      "\u001b[2m\u001b[36m(train_func pid=2980)\u001b[0m   File \"C:\\Users\\trist\\cs_projects\\Cancer_Project\\Cancer_ML\\env\\lib\\site-packages\\torchvision\\models\\video\\resnet.py\", line 229, in forward\n",
      "\u001b[2m\u001b[36m(train_func pid=2980)\u001b[0m     x = self.layer1(x)\n",
      "\u001b[2m\u001b[36m(train_func pid=2980)\u001b[0m   File \"C:\\Users\\trist\\cs_projects\\Cancer_Project\\Cancer_ML\\env\\lib\\site-packages\\torch\\nn\\modules\\module.py\", line 1051, in _call_impl\n",
      "\u001b[2m\u001b[36m(train_func pid=2980)\u001b[0m     return forward_call(*input, **kwargs)\n",
      "\u001b[2m\u001b[36m(train_func pid=2980)\u001b[0m   File \"C:\\Users\\trist\\cs_projects\\Cancer_Project\\Cancer_ML\\env\\lib\\site-packages\\torch\\nn\\modules\\container.py\", line 139, in forward\n",
      "\u001b[2m\u001b[36m(train_func pid=2980)\u001b[0m     input = module(input)\n",
      "\u001b[2m\u001b[36m(train_func pid=2980)\u001b[0m   File \"C:\\Users\\trist\\cs_projects\\Cancer_Project\\Cancer_ML\\env\\lib\\site-packages\\torch\\nn\\modules\\module.py\", line 1051, in _call_impl\n",
      "\u001b[2m\u001b[36m(train_func pid=2980)\u001b[0m     return forward_call(*input, **kwargs)\n",
      "\u001b[2m\u001b[36m(train_func pid=2980)\u001b[0m   File \"C:\\Users\\trist\\cs_projects\\Cancer_Project\\Cancer_ML\\env\\lib\\site-packages\\torchvision\\models\\video\\resnet.py\", line 105, in forward\n",
      "\u001b[2m\u001b[36m(train_func pid=2980)\u001b[0m     out = self.conv1(x)\n",
      "\u001b[2m\u001b[36m(train_func pid=2980)\u001b[0m   File \"C:\\Users\\trist\\cs_projects\\Cancer_Project\\Cancer_ML\\env\\lib\\site-packages\\torch\\nn\\modules\\module.py\", line 1051, in _call_impl\n",
      "\u001b[2m\u001b[36m(train_func pid=2980)\u001b[0m     return forward_call(*input, **kwargs)\n",
      "\u001b[2m\u001b[36m(train_func pid=2980)\u001b[0m   File \"C:\\Users\\trist\\cs_projects\\Cancer_Project\\Cancer_ML\\env\\lib\\site-packages\\torch\\nn\\modules\\container.py\", line 139, in forward\n",
      "\u001b[2m\u001b[36m(train_func pid=2980)\u001b[0m     input = module(input)\n",
      "\u001b[2m\u001b[36m(train_func pid=2980)\u001b[0m   File \"C:\\Users\\trist\\cs_projects\\Cancer_Project\\Cancer_ML\\env\\lib\\site-packages\\torch\\nn\\modules\\module.py\", line 1051, in _call_impl\n",
      "\u001b[2m\u001b[36m(train_func pid=2980)\u001b[0m     return forward_call(*input, **kwargs)\n",
      "\u001b[2m\u001b[36m(train_func pid=2980)\u001b[0m   File \"C:\\Users\\trist\\cs_projects\\Cancer_Project\\Cancer_ML\\env\\lib\\site-packages\\torch\\nn\\modules\\conv.py\", line 587, in forward\n",
      "\u001b[2m\u001b[36m(train_func pid=2980)\u001b[0m     return self._conv_forward(input, self.weight, self.bias)\n",
      "\u001b[2m\u001b[36m(train_func pid=2980)\u001b[0m   File \"C:\\Users\\trist\\cs_projects\\Cancer_Project\\Cancer_ML\\env\\lib\\site-packages\\torch\\nn\\modules\\conv.py\", line 582, in _conv_forward\n",
      "\u001b[2m\u001b[36m(train_func pid=2980)\u001b[0m     return F.conv3d(\n",
      "\u001b[2m\u001b[36m(train_func pid=2980)\u001b[0m RuntimeError: [enforce fail at ..\\c10\\core\\CPUAllocator.cpp:79] data. DefaultCPUAllocator: not enough memory: you tried to allocate 2516582400 bytes.\n",
      "\u001b[2m\u001b[36m(train_func pid=2980)\u001b[0m Exception in thread Thread-3:\n",
      "\u001b[2m\u001b[36m(train_func pid=2980)\u001b[0m Traceback (most recent call last):\n",
      "\u001b[2m\u001b[36m(train_func pid=2980)\u001b[0m   File \"C:\\Users\\trist\\cs_projects\\Cancer_Project\\Cancer_ML\\env\\lib\\threading.py\", line 973, in _bootstrap_inner\n",
      "\u001b[2m\u001b[36m(train_func pid=2980)\u001b[0m     self.run()\n",
      "\u001b[2m\u001b[36m(train_func pid=2980)\u001b[0m   File \"C:\\Users\\trist\\cs_projects\\Cancer_Project\\Cancer_ML\\env\\lib\\site-packages\\ray\\tune\\function_runner.py\", line 298, in run\n",
      "\u001b[2m\u001b[36m(train_func pid=2980)\u001b[0m     raise e\n",
      "\u001b[2m\u001b[36m(train_func pid=2980)\u001b[0m   File \"C:\\Users\\trist\\cs_projects\\Cancer_Project\\Cancer_ML\\env\\lib\\site-packages\\ray\\tune\\function_runner.py\", line 272, in run\n",
      "\u001b[2m\u001b[36m(train_func pid=2980)\u001b[0m     self._entrypoint()\n",
      "\u001b[2m\u001b[36m(train_func pid=2980)\u001b[0m   File \"C:\\Users\\trist\\cs_projects\\Cancer_Project\\Cancer_ML\\env\\lib\\site-packages\\ray\\tune\\function_runner.py\", line 348, in entrypoint\n",
      "\u001b[2m\u001b[36m(train_func pid=2980)\u001b[0m     return self._trainable_func(\n",
      "\u001b[2m\u001b[36m(train_func pid=2980)\u001b[0m   File \"C:\\Users\\trist\\cs_projects\\Cancer_Project\\Cancer_ML\\env\\lib\\site-packages\\ray\\util\\tracing\\tracing_helper.py\", line 462, in _resume_span\n",
      "\u001b[2m\u001b[36m(train_func pid=2980)\u001b[0m     return method(self, *_args, **_kwargs)\n",
      "\u001b[2m\u001b[36m(train_func pid=2980)\u001b[0m   File \"C:\\Users\\trist\\cs_projects\\Cancer_Project\\Cancer_ML\\env\\lib\\site-packages\\ray\\tune\\function_runner.py\", line 640, in _trainable_func\n",
      "\u001b[2m\u001b[36m(train_func pid=2980)\u001b[0m     output = fn()\n",
      "\u001b[2m\u001b[36m(train_func pid=2980)\u001b[0m   File \"C:\\Users\\trist\\cs_projects\\Cancer_Project\\Cancer_ML\\env\\lib\\site-packages\\ray\\tune\\utils\\trainable.py\", line 390, in _inner\n",
      "\u001b[2m\u001b[36m(train_func pid=2980)\u001b[0m     inner(config, checkpoint_dir=None)\n",
      "\u001b[2m\u001b[36m(train_func pid=2980)\u001b[0m   File \"C:\\Users\\trist\\cs_projects\\Cancer_Project\\Cancer_ML\\env\\lib\\site-packages\\ray\\tune\\utils\\trainable.py\", line 381, in inner\n",
      "\u001b[2m\u001b[36m(train_func pid=2980)\u001b[0m     trainable(config, **fn_kwargs)\n",
      "\u001b[2m\u001b[36m(train_func pid=2980)\u001b[0m   File \"C:\\Users\\trist\\AppData\\Local\\Temp\\ipykernel_5568\\195199421.py\", line 71, in train_func\n",
      "\u001b[2m\u001b[36m(train_func pid=2980)\u001b[0m   File \"C:\\Users\\trist\\cs_projects\\Cancer_Project\\Cancer_ML\\env\\lib\\site-packages\\torch\\nn\\modules\\module.py\", line 1051, in _call_impl\n",
      "\u001b[2m\u001b[36m(train_func pid=2980)\u001b[0m     return forward_call(*input, **kwargs)\n",
      "\u001b[2m\u001b[36m(train_func pid=2980)\u001b[0m   File \"C:\\Users\\trist\\AppData\\Local\\Temp\\ipykernel_5568\\195199421.py\", line 33, in forward\n",
      "\u001b[2m\u001b[36m(train_func pid=2980)\u001b[0m   File \"C:\\Users\\trist\\cs_projects\\Cancer_Project\\Cancer_ML\\env\\lib\\site-packages\\torch\\nn\\modules\\module.py\", line 1051, in _call_impl\n",
      "\u001b[2m\u001b[36m(train_func pid=2980)\u001b[0m     return forward_call(*input, **kwargs)\n",
      "\u001b[2m\u001b[36m(train_func pid=2980)\u001b[0m   File \"C:\\Users\\trist\\cs_projects\\Cancer_Project\\Cancer_ML\\env\\lib\\site-packages\\torchvision\\models\\video\\resnet.py\", line 229, in forward\n",
      "\u001b[2m\u001b[36m(train_func pid=2980)\u001b[0m     x = self.layer1(x)\n",
      "\u001b[2m\u001b[36m(train_func pid=2980)\u001b[0m   File \"C:\\Users\\trist\\cs_projects\\Cancer_Project\\Cancer_ML\\env\\lib\\site-packages\\torch\\nn\\modules\\module.py\", line 1051, in _call_impl\n",
      "\u001b[2m\u001b[36m(train_func pid=2980)\u001b[0m     return forward_call(*input, **kwargs)\n",
      "\u001b[2m\u001b[36m(train_func pid=2980)\u001b[0m   File \"C:\\Users\\trist\\cs_projects\\Cancer_Project\\Cancer_ML\\env\\lib\\site-packages\\torch\\nn\\modules\\container.py\", line 139, in forward\n",
      "\u001b[2m\u001b[36m(train_func pid=2980)\u001b[0m     input = module(input)\n",
      "\u001b[2m\u001b[36m(train_func pid=2980)\u001b[0m   File \"C:\\Users\\trist\\cs_projects\\Cancer_Project\\Cancer_ML\\env\\lib\\site-packages\\torch\\nn\\modules\\module.py\", line 1051, in _call_impl\n",
      "\u001b[2m\u001b[36m(train_func pid=2980)\u001b[0m     return forward_call(*input, **kwargs)\n",
      "\u001b[2m\u001b[36m(train_func pid=2980)\u001b[0m   File \"C:\\Users\\trist\\cs_projects\\Cancer_Project\\Cancer_ML\\env\\lib\\site-packages\\torchvision\\models\\video\\resnet.py\", line 105, in forward\n",
      "\u001b[2m\u001b[36m(train_func pid=2980)\u001b[0m     out = self.conv1(x)\n",
      "\u001b[2m\u001b[36m(train_func pid=2980)\u001b[0m   File \"C:\\Users\\trist\\cs_projects\\Cancer_Project\\Cancer_ML\\env\\lib\\site-packages\\torch\\nn\\modules\\module.py\", line 1051, in _call_impl\n",
      "\u001b[2m\u001b[36m(train_func pid=2980)\u001b[0m     return forward_call(*input, **kwargs)\n",
      "\u001b[2m\u001b[36m(train_func pid=2980)\u001b[0m   File \"C:\\Users\\trist\\cs_projects\\Cancer_Project\\Cancer_ML\\env\\lib\\site-packages\\torch\\nn\\modules\\container.py\", line 139, in forward\n",
      "\u001b[2m\u001b[36m(train_func pid=2980)\u001b[0m     input = module(input)\n"
     ]
    },
    {
     "name": "stderr",
     "output_type": "stream",
     "text": [
      "\u001b[2m\u001b[36m(train_func pid=2980)\u001b[0m   File \"C:\\Users\\trist\\cs_projects\\Cancer_Project\\Cancer_ML\\env\\lib\\site-packages\\torch\\nn\\modules\\module.py\", line 1051, in _call_impl\n",
      "\u001b[2m\u001b[36m(train_func pid=2980)\u001b[0m     return forward_call(*input, **kwargs)\n",
      "\u001b[2m\u001b[36m(train_func pid=2980)\u001b[0m   File \"C:\\Users\\trist\\cs_projects\\Cancer_Project\\Cancer_ML\\env\\lib\\site-packages\\torch\\nn\\modules\\conv.py\", line 587, in forward\n",
      "\u001b[2m\u001b[36m(train_func pid=2980)\u001b[0m     return self._conv_forward(input, self.weight, self.bias)\n",
      "\u001b[2m\u001b[36m(train_func pid=2980)\u001b[0m   File \"C:\\Users\\trist\\cs_projects\\Cancer_Project\\Cancer_ML\\env\\lib\\site-packages\\torch\\nn\\modules\\conv.py\", line 582, in _conv_forward\n",
      "\u001b[2m\u001b[36m(train_func pid=2980)\u001b[0m     return F.conv3d(\n",
      "\u001b[2m\u001b[36m(train_func pid=2980)\u001b[0m RuntimeError: [enforce fail at ..\\c10\\core\\CPUAllocator.cpp:79] data. DefaultCPUAllocator: not enough memory: you tried to allocate 2516582400 bytes.\n"
     ]
    },
    {
     "ename": "KeyboardInterrupt",
     "evalue": "",
     "output_type": "error",
     "traceback": [
      "\u001b[1;31m---------------------------------------------------------------------------\u001b[0m",
      "\u001b[1;31mKeyboardInterrupt\u001b[0m                         Traceback (most recent call last)",
      "Input \u001b[1;32mIn [32]\u001b[0m, in \u001b[0;36m<cell line: 3>\u001b[1;34m()\u001b[0m\n\u001b[0;32m      1\u001b[0m \u001b[38;5;28mprint\u001b[39m(X_train[\u001b[38;5;241m0\u001b[39m]\u001b[38;5;241m.\u001b[39mshape)\n\u001b[0;32m      2\u001b[0m \u001b[38;5;28mprint\u001b[39m(X_train[\u001b[38;5;241m1\u001b[39m]\u001b[38;5;241m.\u001b[39mshape)\n\u001b[1;32m----> 3\u001b[0m \u001b[43mmodel\u001b[49m\u001b[38;5;241;43m.\u001b[39;49m\u001b[43mget_model\u001b[49m\u001b[43m(\u001b[49m\u001b[43mX_train\u001b[49m\u001b[43m,\u001b[49m\u001b[43m \u001b[49m\u001b[43my_train\u001b[49m\u001b[43m,\u001b[49m\u001b[43m \u001b[49m\u001b[43mX_val\u001b[49m\u001b[43m,\u001b[49m\u001b[43m \u001b[49m\u001b[43my_val\u001b[49m\u001b[43m)\u001b[49m\n",
      "Input \u001b[1;32mIn [29]\u001b[0m, in \u001b[0;36mimage_model.get_model\u001b[1;34m(self, X_train, y_train, X_val, y_val, epochs, batch_size)\u001b[0m\n\u001b[0;32m    116\u001b[0m     \u001b[38;5;28mself\u001b[39m\u001b[38;5;241m.\u001b[39mmodel\u001b[38;5;241m.\u001b[39mload_state_dict(torch\u001b[38;5;241m.\u001b[39mload(\u001b[38;5;124m\"\u001b[39m\u001b[38;5;124mtorch_image_clinical_model.pth\u001b[39m\u001b[38;5;124m\"\u001b[39m), strict\u001b[38;5;241m=\u001b[39m\u001b[38;5;28;01mFalse\u001b[39;00m)\n\u001b[0;32m    117\u001b[0m \u001b[38;5;28;01melse\u001b[39;00m:\n\u001b[1;32m--> 118\u001b[0m     \u001b[38;5;28mself\u001b[39m\u001b[38;5;241m.\u001b[39mmodel \u001b[38;5;241m=\u001b[39m \u001b[38;5;28;43mself\u001b[39;49m\u001b[38;5;241;43m.\u001b[39;49m\u001b[43mmain\u001b[49m\u001b[43m(\u001b[49m\u001b[43mX_train\u001b[49m\u001b[43m,\u001b[49m\u001b[43m \u001b[49m\u001b[43my_train\u001b[49m\u001b[43m)\u001b[49m\n\u001b[0;32m    120\u001b[0m \u001b[38;5;28;01mreturn\u001b[39;00m \u001b[38;5;28mself\u001b[39m\u001b[38;5;241m.\u001b[39mmodel\n",
      "Input \u001b[1;32mIn [29]\u001b[0m, in \u001b[0;36mimage_model.main\u001b[1;34m(self, X_train, y_train, num_samples, max_num_epochs, gpus_per_trial)\u001b[0m\n\u001b[0;32m     53\u001b[0m     result \u001b[38;5;241m=\u001b[39m tune\u001b[38;5;241m.\u001b[39mrun(\n\u001b[0;32m     54\u001b[0m         tune\u001b[38;5;241m.\u001b[39mwith_parameters(\u001b[38;5;28mself\u001b[39m\u001b[38;5;241m.\u001b[39mmodel\u001b[38;5;241m.\u001b[39mtrain_func, data\u001b[38;5;241m=\u001b[39m[id_X_train, id_y_train, \u001b[38;5;28mself\u001b[39m\u001b[38;5;241m.\u001b[39mres]),\n\u001b[0;32m     55\u001b[0m         resources_per_trial\u001b[38;5;241m=\u001b[39m{\u001b[38;5;124m\"\u001b[39m\u001b[38;5;124mcpu\u001b[39m\u001b[38;5;124m\"\u001b[39m:\u001b[38;5;241m4\u001b[39m, \u001b[38;5;124m\"\u001b[39m\u001b[38;5;124mgpu\u001b[39m\u001b[38;5;124m\"\u001b[39m:gpus_per_trial},\n\u001b[1;32m   (...)\u001b[0m\n\u001b[0;32m     60\u001b[0m         scheduler\u001b[38;5;241m=\u001b[39mscheduler\n\u001b[0;32m     61\u001b[0m     )\n\u001b[0;32m     62\u001b[0m \u001b[38;5;28;01melse\u001b[39;00m:\n\u001b[1;32m---> 63\u001b[0m     result \u001b[38;5;241m=\u001b[39m \u001b[43mtune\u001b[49m\u001b[38;5;241;43m.\u001b[39;49m\u001b[43mrun\u001b[49m\u001b[43m(\u001b[49m\n\u001b[0;32m     64\u001b[0m \u001b[43m        \u001b[49m\u001b[43mtune\u001b[49m\u001b[38;5;241;43m.\u001b[39;49m\u001b[43mwith_parameters\u001b[49m\u001b[43m(\u001b[49m\u001b[38;5;28;43mself\u001b[39;49m\u001b[38;5;241;43m.\u001b[39;49m\u001b[43mmodel\u001b[49m\u001b[38;5;241;43m.\u001b[39;49m\u001b[43mtrain_func\u001b[49m\u001b[43m,\u001b[49m\u001b[43m \u001b[49m\u001b[43mdata\u001b[49m\u001b[38;5;241;43m=\u001b[39;49m\u001b[43m[\u001b[49m\u001b[43mid_X_train\u001b[49m\u001b[43m,\u001b[49m\u001b[43m \u001b[49m\u001b[43mid_y_train\u001b[49m\u001b[43m,\u001b[49m\u001b[43m \u001b[49m\u001b[38;5;28;43mself\u001b[39;49m\u001b[38;5;241;43m.\u001b[39;49m\u001b[43mres\u001b[49m\u001b[43m]\u001b[49m\u001b[43m)\u001b[49m\u001b[43m,\u001b[49m\n\u001b[0;32m     65\u001b[0m \u001b[43m        \u001b[49m\u001b[43mresources_per_trial\u001b[49m\u001b[38;5;241;43m=\u001b[39;49m\u001b[43m{\u001b[49m\u001b[38;5;124;43m\"\u001b[39;49m\u001b[38;5;124;43mcpu\u001b[39;49m\u001b[38;5;124;43m\"\u001b[39;49m\u001b[43m:\u001b[49m\u001b[38;5;241;43m4\u001b[39;49m\u001b[43m}\u001b[49m\u001b[43m,\u001b[49m\n\u001b[0;32m     66\u001b[0m \u001b[43m        \u001b[49m\u001b[43mconfig\u001b[49m\u001b[38;5;241;43m=\u001b[39;49m\u001b[43mconfig\u001b[49m\u001b[43m,\u001b[49m\n\u001b[0;32m     67\u001b[0m \u001b[43m        \u001b[49m\u001b[43mmetric\u001b[49m\u001b[38;5;241;43m=\u001b[39;49m\u001b[38;5;124;43m\"\u001b[39;49m\u001b[38;5;124;43maccuracy\u001b[39;49m\u001b[38;5;124;43m\"\u001b[39;49m\u001b[43m,\u001b[49m\n\u001b[0;32m     68\u001b[0m \u001b[43m        \u001b[49m\u001b[43mmode\u001b[49m\u001b[38;5;241;43m=\u001b[39;49m\u001b[38;5;124;43m\"\u001b[39;49m\u001b[38;5;124;43mmin\u001b[39;49m\u001b[38;5;124;43m\"\u001b[39;49m\u001b[43m,\u001b[49m\n\u001b[0;32m     69\u001b[0m \u001b[43m        \u001b[49m\u001b[43mnum_samples\u001b[49m\u001b[38;5;241;43m=\u001b[39;49m\u001b[43mnum_samples\u001b[49m\u001b[43m,\u001b[49m\n\u001b[0;32m     70\u001b[0m \u001b[43m        \u001b[49m\u001b[43mscheduler\u001b[49m\u001b[38;5;241;43m=\u001b[39;49m\u001b[43mscheduler\u001b[49m\n\u001b[0;32m     71\u001b[0m \u001b[43m    \u001b[49m\u001b[43m)\u001b[49m\n\u001b[0;32m     73\u001b[0m best_trial \u001b[38;5;241m=\u001b[39m result\u001b[38;5;241m.\u001b[39mget_best_trial(\u001b[38;5;124m\"\u001b[39m\u001b[38;5;124mloss\u001b[39m\u001b[38;5;124m\"\u001b[39m, \u001b[38;5;124m\"\u001b[39m\u001b[38;5;124mmin\u001b[39m\u001b[38;5;124m\"\u001b[39m, \u001b[38;5;124m\"\u001b[39m\u001b[38;5;124mlast\u001b[39m\u001b[38;5;124m\"\u001b[39m)\n\u001b[0;32m     74\u001b[0m \u001b[38;5;28mprint\u001b[39m(\u001b[38;5;124m\"\u001b[39m\u001b[38;5;124mBest trial config: \u001b[39m\u001b[38;5;132;01m{}\u001b[39;00m\u001b[38;5;124m\"\u001b[39m\u001b[38;5;241m.\u001b[39mformat(best_trial\u001b[38;5;241m.\u001b[39mconfig))\n",
      "File \u001b[1;32m~\\cs_projects\\Cancer_Project\\Cancer_ML\\env\\lib\\site-packages\\ray\\tune\\tune.py:686\u001b[0m, in \u001b[0;36mrun\u001b[1;34m(run_or_experiment, name, metric, mode, stop, time_budget_s, config, resources_per_trial, num_samples, local_dir, search_alg, scheduler, keep_checkpoints_num, checkpoint_score_attr, checkpoint_freq, checkpoint_at_end, verbose, progress_reporter, log_to_file, trial_name_creator, trial_dirname_creator, sync_config, export_formats, max_failures, fail_fast, restore, server_port, resume, reuse_actors, trial_executor, raise_on_failed_trial, callbacks, max_concurrent_trials, _experiment_checkpoint_dir, queue_trials, loggers, _remote)\u001b[0m\n\u001b[0;32m    683\u001b[0m     _report_progress(runner, progress_reporter, done\u001b[38;5;241m=\u001b[39m\u001b[38;5;28;01mTrue\u001b[39;00m)\n\u001b[0;32m    685\u001b[0m wait_for_sync()\n\u001b[1;32m--> 686\u001b[0m \u001b[43mrunner\u001b[49m\u001b[38;5;241;43m.\u001b[39;49m\u001b[43mcleanup\u001b[49m\u001b[43m(\u001b[49m\u001b[43m)\u001b[49m\n\u001b[0;32m    688\u001b[0m incomplete_trials \u001b[38;5;241m=\u001b[39m []\n\u001b[0;32m    689\u001b[0m \u001b[38;5;28;01mfor\u001b[39;00m trial \u001b[38;5;129;01min\u001b[39;00m runner\u001b[38;5;241m.\u001b[39mget_trials():\n",
      "File \u001b[1;32m~\\cs_projects\\Cancer_Project\\Cancer_ML\\env\\lib\\site-packages\\ray\\tune\\trial_runner.py:1382\u001b[0m, in \u001b[0;36mTrialRunner.cleanup\u001b[1;34m(self)\u001b[0m\n\u001b[0;32m   1380\u001b[0m \u001b[38;5;28;01mdef\u001b[39;00m \u001b[38;5;21mcleanup\u001b[39m(\u001b[38;5;28mself\u001b[39m):\n\u001b[0;32m   1381\u001b[0m     \u001b[38;5;124;03m\"\"\"Cleanup trials and callbacks.\"\"\"\u001b[39;00m\n\u001b[1;32m-> 1382\u001b[0m     \u001b[38;5;28;43mself\u001b[39;49m\u001b[38;5;241;43m.\u001b[39;49m\u001b[43mcleanup_trials\u001b[49m\u001b[43m(\u001b[49m\u001b[43m)\u001b[49m\n\u001b[0;32m   1383\u001b[0m     \u001b[38;5;28mself\u001b[39m\u001b[38;5;241m.\u001b[39mend_experiment_callbacks()\n",
      "File \u001b[1;32m~\\cs_projects\\Cancer_Project\\Cancer_ML\\env\\lib\\site-packages\\ray\\tune\\trial_runner.py:1378\u001b[0m, in \u001b[0;36mTrialRunner.cleanup_trials\u001b[1;34m(self)\u001b[0m\n\u001b[0;32m   1377\u001b[0m \u001b[38;5;28;01mdef\u001b[39;00m \u001b[38;5;21mcleanup_trials\u001b[39m(\u001b[38;5;28mself\u001b[39m):\n\u001b[1;32m-> 1378\u001b[0m     \u001b[38;5;28;43mself\u001b[39;49m\u001b[38;5;241;43m.\u001b[39;49m\u001b[43mtrial_executor\u001b[49m\u001b[38;5;241;43m.\u001b[39;49m\u001b[43mcleanup\u001b[49m\u001b[43m(\u001b[49m\u001b[38;5;28;43mself\u001b[39;49m\u001b[38;5;241;43m.\u001b[39;49m\u001b[43mget_trials\u001b[49m\u001b[43m(\u001b[49m\u001b[43m)\u001b[49m\u001b[43m)\u001b[49m\n",
      "File \u001b[1;32m~\\cs_projects\\Cancer_Project\\Cancer_ML\\env\\lib\\site-packages\\ray\\tune\\ray_trial_executor.py:747\u001b[0m, in \u001b[0;36mRayTrialExecutor.cleanup\u001b[1;34m(self, trials)\u001b[0m\n\u001b[0;32m    745\u001b[0m     \u001b[38;5;28;01mbreak\u001b[39;00m\n\u001b[0;32m    746\u001b[0m \u001b[38;5;28mself\u001b[39m\u001b[38;5;241m.\u001b[39m_do_force_trial_cleanup()\n\u001b[1;32m--> 747\u001b[0m ready, _ \u001b[38;5;241m=\u001b[39m \u001b[43mray\u001b[49m\u001b[38;5;241;43m.\u001b[39;49m\u001b[43mwait\u001b[49m\u001b[43m(\u001b[49m\u001b[38;5;28;43mlist\u001b[39;49m\u001b[43m(\u001b[49m\u001b[38;5;28;43mself\u001b[39;49m\u001b[38;5;241;43m.\u001b[39;49m\u001b[43m_futures\u001b[49m\u001b[38;5;241;43m.\u001b[39;49m\u001b[43mkeys\u001b[49m\u001b[43m(\u001b[49m\u001b[43m)\u001b[49m\u001b[43m)\u001b[49m\u001b[43m,\u001b[49m\u001b[43m \u001b[49m\u001b[43mtimeout\u001b[49m\u001b[38;5;241;43m=\u001b[39;49m\u001b[38;5;241;43m0\u001b[39;49m\u001b[43m)\u001b[49m\n\u001b[0;32m    748\u001b[0m \u001b[38;5;28;01mif\u001b[39;00m \u001b[38;5;129;01mnot\u001b[39;00m ready:\n\u001b[0;32m    749\u001b[0m     \u001b[38;5;28;01mcontinue\u001b[39;00m\n",
      "File \u001b[1;32m~\\cs_projects\\Cancer_Project\\Cancer_ML\\env\\lib\\site-packages\\ray\\_private\\client_mode_hook.py:105\u001b[0m, in \u001b[0;36mclient_mode_hook.<locals>.wrapper\u001b[1;34m(*args, **kwargs)\u001b[0m\n\u001b[0;32m    103\u001b[0m     \u001b[38;5;28;01mif\u001b[39;00m func\u001b[38;5;241m.\u001b[39m\u001b[38;5;18m__name__\u001b[39m \u001b[38;5;241m!=\u001b[39m \u001b[38;5;124m\"\u001b[39m\u001b[38;5;124minit\u001b[39m\u001b[38;5;124m\"\u001b[39m \u001b[38;5;129;01mor\u001b[39;00m is_client_mode_enabled_by_default:\n\u001b[0;32m    104\u001b[0m         \u001b[38;5;28;01mreturn\u001b[39;00m \u001b[38;5;28mgetattr\u001b[39m(ray, func\u001b[38;5;241m.\u001b[39m\u001b[38;5;18m__name__\u001b[39m)(\u001b[38;5;241m*\u001b[39margs, \u001b[38;5;241m*\u001b[39m\u001b[38;5;241m*\u001b[39mkwargs)\n\u001b[1;32m--> 105\u001b[0m \u001b[38;5;28;01mreturn\u001b[39;00m func(\u001b[38;5;241m*\u001b[39margs, \u001b[38;5;241m*\u001b[39m\u001b[38;5;241m*\u001b[39mkwargs)\n",
      "File \u001b[1;32m~\\cs_projects\\Cancer_Project\\Cancer_ML\\env\\lib\\site-packages\\ray\\worker.py:1993\u001b[0m, in \u001b[0;36mwait\u001b[1;34m(object_refs, num_returns, timeout, fetch_local)\u001b[0m\n\u001b[0;32m   1991\u001b[0m timeout \u001b[38;5;241m=\u001b[39m timeout \u001b[38;5;28;01mif\u001b[39;00m timeout \u001b[38;5;129;01mis\u001b[39;00m \u001b[38;5;129;01mnot\u001b[39;00m \u001b[38;5;28;01mNone\u001b[39;00m \u001b[38;5;28;01melse\u001b[39;00m \u001b[38;5;241m10\u001b[39m \u001b[38;5;241m*\u001b[39m\u001b[38;5;241m*\u001b[39m \u001b[38;5;241m6\u001b[39m\n\u001b[0;32m   1992\u001b[0m timeout_milliseconds \u001b[38;5;241m=\u001b[39m \u001b[38;5;28mint\u001b[39m(timeout \u001b[38;5;241m*\u001b[39m \u001b[38;5;241m1000\u001b[39m)\n\u001b[1;32m-> 1993\u001b[0m ready_ids, remaining_ids \u001b[38;5;241m=\u001b[39m \u001b[43mworker\u001b[49m\u001b[38;5;241;43m.\u001b[39;49m\u001b[43mcore_worker\u001b[49m\u001b[38;5;241;43m.\u001b[39;49m\u001b[43mwait\u001b[49m\u001b[43m(\u001b[49m\n\u001b[0;32m   1994\u001b[0m \u001b[43m    \u001b[49m\u001b[43mobject_refs\u001b[49m\u001b[43m,\u001b[49m\n\u001b[0;32m   1995\u001b[0m \u001b[43m    \u001b[49m\u001b[43mnum_returns\u001b[49m\u001b[43m,\u001b[49m\n\u001b[0;32m   1996\u001b[0m \u001b[43m    \u001b[49m\u001b[43mtimeout_milliseconds\u001b[49m\u001b[43m,\u001b[49m\n\u001b[0;32m   1997\u001b[0m \u001b[43m    \u001b[49m\u001b[43mworker\u001b[49m\u001b[38;5;241;43m.\u001b[39;49m\u001b[43mcurrent_task_id\u001b[49m\u001b[43m,\u001b[49m\n\u001b[0;32m   1998\u001b[0m \u001b[43m    \u001b[49m\u001b[43mfetch_local\u001b[49m\u001b[43m,\u001b[49m\n\u001b[0;32m   1999\u001b[0m \u001b[43m\u001b[49m\u001b[43m)\u001b[49m\n\u001b[0;32m   2000\u001b[0m \u001b[38;5;28;01mreturn\u001b[39;00m ready_ids, remaining_ids\n",
      "File \u001b[1;32mpython\\ray\\_raylet.pyx:1401\u001b[0m, in \u001b[0;36mray._raylet.CoreWorker.wait\u001b[1;34m()\u001b[0m\n",
      "File \u001b[1;32mpython\\ray\\_raylet.pyx:167\u001b[0m, in \u001b[0;36mray._raylet.check_status\u001b[1;34m()\u001b[0m\n",
      "\u001b[1;31mKeyboardInterrupt\u001b[0m: "
     ]
    }
   ],
   "source": [
    "model.get_model(X_train, y_train, X_val, y_val)"
   ]
  },
  {
   "cell_type": "code",
   "execution_count": null,
   "id": "2e91ecb6",
   "metadata": {},
   "outputs": [],
   "source": [
    "model.test_model(X_test, y_test)"
   ]
  }
 ],
 "metadata": {
  "kernelspec": {
   "display_name": "Python 3",
   "language": "python",
   "name": "python3"
  },
  "language_info": {
   "codemirror_mode": {
    "name": "ipython",
    "version": 3
   },
   "file_extension": ".py",
   "mimetype": "text/x-python",
   "name": "python",
   "nbconvert_exporter": "python",
   "pygments_lexer": "ipython3",
   "version": "3.9.7"
  }
 },
 "nbformat": 4,
 "nbformat_minor": 5
}
